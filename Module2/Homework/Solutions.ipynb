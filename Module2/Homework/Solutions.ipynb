{
 "cells": [
  {
   "cell_type": "code",
   "execution_count": 1,
   "id": "a8c5b916",
   "metadata": {},
   "outputs": [],
   "source": [
    "import pandas as pd"
   ]
  },
  {
   "cell_type": "code",
   "execution_count": 2,
   "id": "f9defc72",
   "metadata": {},
   "outputs": [],
   "source": [
    "# df = pd.read_csv('C:/Users/stask/Analitics_Karpov/Module2/Homework/2_taxi_nyc.csv')\n",
    "taxi = pd.read_csv('https://stepik.org/media/attachments/lesson/360340/2_taxi_nyc.csv')"
   ]
  },
  {
   "cell_type": "code",
   "execution_count": 3,
   "id": "45a9613d",
   "metadata": {},
   "outputs": [
    {
     "name": "stdout",
     "output_type": "stream",
     "text": [
      "Rows: 29101, Columns: 14\n"
     ]
    }
   ],
   "source": [
    "# сколько всего строк и столбцов имеется в датасете.\n",
    "rows, columns = taxi.shape\n",
    "print(f'Rows: {rows}, Columns: {columns}')"
   ]
  },
  {
   "cell_type": "code",
   "execution_count": 4,
   "id": "ecfb9eeb",
   "metadata": {},
   "outputs": [
    {
     "data": {
      "text/plain": [
       "int64      1\n",
       "object     4\n",
       "float64    9\n",
       "dtype: int64"
      ]
     },
     "execution_count": 4,
     "metadata": {},
     "output_type": "execute_result"
    }
   ],
   "source": [
    "# Давайте посмотрим на типы колонок. Все ли из них считались правильно? \n",
    "# В качестве ответа выберите тип, преобладающий в датасете.\n",
    "taxi.dtypes.value_counts(ascending=True)"
   ]
  },
  {
   "cell_type": "code",
   "execution_count": 5,
   "id": "9fdca30a",
   "metadata": {},
   "outputs": [
    {
     "data": {
      "text/plain": [
       "Index(['pickup_dt', 'pickup_month', 'borough', 'pickups', 'hday', 'spd', 'vsb',\n",
       "       'temp', 'dewp', 'slp', 'pcp 01', 'pcp 06', 'pcp 24', 'sd'],\n",
       "      dtype='object')"
      ]
     },
     "execution_count": 5,
     "metadata": {},
     "output_type": "execute_result"
    }
   ],
   "source": [
    "# В названиях столбцов pcp 01, pcp 06, pcp 24.\n",
    "# Замените пробел в названиях на знак нижнего подчёркивания. \n",
    "\n",
    "taxi.columns"
   ]
  },
  {
   "cell_type": "code",
   "execution_count": 6,
   "id": "12b11fbd",
   "metadata": {},
   "outputs": [
    {
     "data": {
      "text/plain": [
       "Index(['pickup_dt', 'pickup_month', 'borough', 'pickups', 'hday', 'spd', 'vsb',\n",
       "       'temp', 'dewp', 'slp', 'pcp_01', 'pcp_06', 'pcp_24', 'sd'],\n",
       "      dtype='object')"
      ]
     },
     "execution_count": 6,
     "metadata": {},
     "output_type": "execute_result"
    }
   ],
   "source": [
    "taxi = taxi.rename(columns={'pcp 01': 'pcp_01',\\\n",
    "                            'pcp 06': 'pcp_06',\\\n",
    "                            'pcp 24': 'pcp_24'})\n",
    "taxi.columns"
   ]
  },
  {
   "cell_type": "code",
   "execution_count": 7,
   "id": "87fd0d21",
   "metadata": {},
   "outputs": [
    {
     "data": {
      "text/plain": [
       "4343"
      ]
     },
     "execution_count": 7,
     "metadata": {},
     "output_type": "execute_result"
    }
   ],
   "source": [
    "# А теперь вопрос: сколько раз в данных встречается район Бруклин (Brooklyn)?\n",
    "taxi.query('borough == \"Brooklyn\"').shape[0]"
   ]
  },
  {
   "cell_type": "code",
   "execution_count": 8,
   "id": "50979158",
   "metadata": {},
   "outputs": [
    {
     "data": {
      "text/plain": [
       "Bronx            4343\n",
       "Brooklyn         4343\n",
       "EWR              4343\n",
       "Manhattan        4343\n",
       "Queens           4343\n",
       "Staten Island    4343\n",
       "Name: borough, dtype: int64"
      ]
     },
     "execution_count": 8,
     "metadata": {},
     "output_type": "execute_result"
    }
   ],
   "source": [
    "taxi.borough.value_counts()"
   ]
  },
  {
   "cell_type": "code",
   "execution_count": 9,
   "id": "430caac7",
   "metadata": {},
   "outputs": [
    {
     "data": {
      "text/plain": [
       "14265773"
      ]
     },
     "execution_count": 9,
     "metadata": {},
     "output_type": "execute_result"
    }
   ],
   "source": [
    "# выяснить, из какого района было совершено наибольшее количество поездок за весь период. \n",
    "# Для начала посчитайте общее количество поездок (pickups) без группировки.\n",
    "taxi.pickups.sum()"
   ]
  },
  {
   "cell_type": "code",
   "execution_count": 10,
   "id": "d2eea74b",
   "metadata": {},
   "outputs": [
    {
     "data": {
      "text/html": [
       "<div>\n",
       "<style scoped>\n",
       "    .dataframe tbody tr th:only-of-type {\n",
       "        vertical-align: middle;\n",
       "    }\n",
       "\n",
       "    .dataframe tbody tr th {\n",
       "        vertical-align: top;\n",
       "    }\n",
       "\n",
       "    .dataframe thead th {\n",
       "        text-align: right;\n",
       "    }\n",
       "</style>\n",
       "<table border=\"1\" class=\"dataframe\">\n",
       "  <thead>\n",
       "    <tr style=\"text-align: right;\">\n",
       "      <th></th>\n",
       "      <th>borough</th>\n",
       "      <th>pickups</th>\n",
       "    </tr>\n",
       "  </thead>\n",
       "  <tbody>\n",
       "    <tr>\n",
       "      <th>3</th>\n",
       "      <td>Manhattan</td>\n",
       "      <td>7883</td>\n",
       "    </tr>\n",
       "    <tr>\n",
       "      <th>1</th>\n",
       "      <td>Brooklyn</td>\n",
       "      <td>2009</td>\n",
       "    </tr>\n",
       "    <tr>\n",
       "      <th>4</th>\n",
       "      <td>Queens</td>\n",
       "      <td>831</td>\n",
       "    </tr>\n",
       "    <tr>\n",
       "      <th>0</th>\n",
       "      <td>Bronx</td>\n",
       "      <td>262</td>\n",
       "    </tr>\n",
       "    <tr>\n",
       "      <th>5</th>\n",
       "      <td>Staten Island</td>\n",
       "      <td>13</td>\n",
       "    </tr>\n",
       "    <tr>\n",
       "      <th>2</th>\n",
       "      <td>EWR</td>\n",
       "      <td>2</td>\n",
       "    </tr>\n",
       "  </tbody>\n",
       "</table>\n",
       "</div>"
      ],
      "text/plain": [
       "         borough  pickups\n",
       "3      Manhattan     7883\n",
       "1       Brooklyn     2009\n",
       "4         Queens      831\n",
       "0          Bronx      262\n",
       "5  Staten Island       13\n",
       "2            EWR        2"
      ]
     },
     "execution_count": 10,
     "metadata": {},
     "output_type": "execute_result"
    }
   ],
   "source": [
    "taxi.groupby('borough', as_index=False) \\\n",
    "    .agg({'pickups': 'max'}) \\\n",
    "    .sort_values('pickups', ascending=False)\n"
   ]
  },
  {
   "cell_type": "code",
   "execution_count": 11,
   "id": "fffa3e7e",
   "metadata": {},
   "outputs": [
    {
     "data": {
      "text/html": [
       "<div>\n",
       "<style scoped>\n",
       "    .dataframe tbody tr th:only-of-type {\n",
       "        vertical-align: middle;\n",
       "    }\n",
       "\n",
       "    .dataframe tbody tr th {\n",
       "        vertical-align: top;\n",
       "    }\n",
       "\n",
       "    .dataframe thead th {\n",
       "        text-align: right;\n",
       "    }\n",
       "</style>\n",
       "<table border=\"1\" class=\"dataframe\">\n",
       "  <thead>\n",
       "    <tr style=\"text-align: right;\">\n",
       "      <th></th>\n",
       "      <th>borough</th>\n",
       "      <th>pickups</th>\n",
       "    </tr>\n",
       "  </thead>\n",
       "  <tbody>\n",
       "    <tr>\n",
       "      <th>3</th>\n",
       "      <td>Manhattan</td>\n",
       "      <td>10367841</td>\n",
       "    </tr>\n",
       "    <tr>\n",
       "      <th>1</th>\n",
       "      <td>Brooklyn</td>\n",
       "      <td>2321035</td>\n",
       "    </tr>\n",
       "    <tr>\n",
       "      <th>4</th>\n",
       "      <td>Queens</td>\n",
       "      <td>1343528</td>\n",
       "    </tr>\n",
       "    <tr>\n",
       "      <th>0</th>\n",
       "      <td>Bronx</td>\n",
       "      <td>220047</td>\n",
       "    </tr>\n",
       "    <tr>\n",
       "      <th>5</th>\n",
       "      <td>Staten Island</td>\n",
       "      <td>6957</td>\n",
       "    </tr>\n",
       "    <tr>\n",
       "      <th>2</th>\n",
       "      <td>EWR</td>\n",
       "      <td>105</td>\n",
       "    </tr>\n",
       "  </tbody>\n",
       "</table>\n",
       "</div>"
      ],
      "text/plain": [
       "         borough   pickups\n",
       "3      Manhattan  10367841\n",
       "1       Brooklyn   2321035\n",
       "4         Queens   1343528\n",
       "0          Bronx    220047\n",
       "5  Staten Island      6957\n",
       "2            EWR       105"
      ]
     },
     "execution_count": 11,
     "metadata": {},
     "output_type": "execute_result"
    }
   ],
   "source": [
    "# сгруппируйте данные по району (borough)\n",
    "# укажите, из какого пункта было совершено больше всего поездок\n",
    "taxi.groupby('borough', as_index=False) \\\n",
    "    .agg({'pickups': 'sum'}) \\\n",
    "    .sort_values('pickups', ascending=False)"
   ]
  },
  {
   "cell_type": "code",
   "execution_count": 12,
   "id": "9a813629",
   "metadata": {},
   "outputs": [
    {
     "data": {
      "text/plain": [
       "pandas.core.frame.DataFrame"
      ]
     },
     "execution_count": 12,
     "metadata": {},
     "output_type": "execute_result"
    }
   ],
   "source": [
    "# Сохраните название района с наименьшим числом поездок \n",
    "# в переменную min_pickups, применив подходящий метод.\n",
    "min_pickups = taxi.groupby('borough', as_index=False) \\\n",
    "    .agg({'pickups': 'sum'})\n",
    "# min_pickups.idxmin()\n",
    "type(min_pickups)"
   ]
  },
  {
   "cell_type": "code",
   "execution_count": 13,
   "id": "9aa79ebc",
   "metadata": {},
   "outputs": [
    {
     "data": {
      "text/plain": [
       "pandas.core.series.Series"
      ]
     },
     "execution_count": 13,
     "metadata": {},
     "output_type": "execute_result"
    }
   ],
   "source": [
    "min_pickups2 = taxi.groupby('borough').pickups.sum()\n",
    "type(min_pickups2)"
   ]
  },
  {
   "cell_type": "code",
   "execution_count": 14,
   "id": "c724ad6a",
   "metadata": {},
   "outputs": [
    {
     "data": {
      "text/plain": [
       "'EWR'"
      ]
     },
     "execution_count": 14,
     "metadata": {},
     "output_type": "execute_result"
    }
   ],
   "source": [
    "min_pickups2.idxmin()"
   ]
  },
  {
   "cell_type": "code",
   "execution_count": 15,
   "id": "5d5d3445",
   "metadata": {},
   "outputs": [],
   "source": [
    "# Сгруппируйте данные по двум признакам: из какого района был сделан заказ \n",
    "# и является ли день выходным (колонки borough и hday). \n",
    "# Сравните среднее число поездок и выберите районы, из которых по праздникам \n",
    "# в среднем поступает больше заказов, чем в обычные дни.  "
   ]
  },
  {
   "cell_type": "code",
   "execution_count": 26,
   "id": "cfd01d04",
   "metadata": {},
   "outputs": [
    {
     "data": {
      "text/html": [
       "<div>\n",
       "<style scoped>\n",
       "    .dataframe tbody tr th:only-of-type {\n",
       "        vertical-align: middle;\n",
       "    }\n",
       "\n",
       "    .dataframe tbody tr th {\n",
       "        vertical-align: top;\n",
       "    }\n",
       "\n",
       "    .dataframe thead th {\n",
       "        text-align: right;\n",
       "    }\n",
       "</style>\n",
       "<table border=\"1\" class=\"dataframe\">\n",
       "  <thead>\n",
       "    <tr style=\"text-align: right;\">\n",
       "      <th></th>\n",
       "      <th>borough</th>\n",
       "      <th>hday</th>\n",
       "      <th>pickups</th>\n",
       "    </tr>\n",
       "  </thead>\n",
       "  <tbody>\n",
       "    <tr>\n",
       "      <th>6</th>\n",
       "      <td>Manhattan</td>\n",
       "      <td>N</td>\n",
       "      <td>2401.302921</td>\n",
       "    </tr>\n",
       "    <tr>\n",
       "      <th>7</th>\n",
       "      <td>Manhattan</td>\n",
       "      <td>Y</td>\n",
       "      <td>2035.928144</td>\n",
       "    </tr>\n",
       "    <tr>\n",
       "      <th>2</th>\n",
       "      <td>Brooklyn</td>\n",
       "      <td>N</td>\n",
       "      <td>534.727969</td>\n",
       "    </tr>\n",
       "    <tr>\n",
       "      <th>3</th>\n",
       "      <td>Brooklyn</td>\n",
       "      <td>Y</td>\n",
       "      <td>527.011976</td>\n",
       "    </tr>\n",
       "    <tr>\n",
       "      <th>9</th>\n",
       "      <td>Queens</td>\n",
       "      <td>Y</td>\n",
       "      <td>320.730539</td>\n",
       "    </tr>\n",
       "    <tr>\n",
       "      <th>8</th>\n",
       "      <td>Queens</td>\n",
       "      <td>N</td>\n",
       "      <td>308.899904</td>\n",
       "    </tr>\n",
       "    <tr>\n",
       "      <th>0</th>\n",
       "      <td>Bronx</td>\n",
       "      <td>N</td>\n",
       "      <td>50.771073</td>\n",
       "    </tr>\n",
       "    <tr>\n",
       "      <th>1</th>\n",
       "      <td>Bronx</td>\n",
       "      <td>Y</td>\n",
       "      <td>48.065868</td>\n",
       "    </tr>\n",
       "    <tr>\n",
       "      <th>10</th>\n",
       "      <td>Staten Island</td>\n",
       "      <td>N</td>\n",
       "      <td>1.606082</td>\n",
       "    </tr>\n",
       "    <tr>\n",
       "      <th>11</th>\n",
       "      <td>Staten Island</td>\n",
       "      <td>Y</td>\n",
       "      <td>1.497006</td>\n",
       "    </tr>\n",
       "    <tr>\n",
       "      <th>5</th>\n",
       "      <td>EWR</td>\n",
       "      <td>Y</td>\n",
       "      <td>0.041916</td>\n",
       "    </tr>\n",
       "    <tr>\n",
       "      <th>4</th>\n",
       "      <td>EWR</td>\n",
       "      <td>N</td>\n",
       "      <td>0.023467</td>\n",
       "    </tr>\n",
       "  </tbody>\n",
       "</table>\n",
       "</div>"
      ],
      "text/plain": [
       "          borough hday      pickups\n",
       "6       Manhattan    N  2401.302921\n",
       "7       Manhattan    Y  2035.928144\n",
       "2        Brooklyn    N   534.727969\n",
       "3        Brooklyn    Y   527.011976\n",
       "9          Queens    Y   320.730539\n",
       "8          Queens    N   308.899904\n",
       "0           Bronx    N    50.771073\n",
       "1           Bronx    Y    48.065868\n",
       "10  Staten Island    N     1.606082\n",
       "11  Staten Island    Y     1.497006\n",
       "5             EWR    Y     0.041916\n",
       "4             EWR    N     0.023467"
      ]
     },
     "execution_count": 26,
     "metadata": {},
     "output_type": "execute_result"
    }
   ],
   "source": [
    "taxi.groupby(['borough', 'hday'], as_index=False). \\\n",
    "    aggregate({'pickups':'mean'}). \\\n",
    "    sort_values('pickups', ascending=False)"
   ]
  },
  {
   "attachments": {
    "Screenshot_4.png": {
     "image/png": "[encoded data removed]"
    }
   },
   "cell_type": "markdown",
   "id": "562b7ac2",
   "metadata": {},
   "source": [
    "![Screenshot_4.png](attachment:Screenshot_4.png)"
   ]
  },
  {
   "cell_type": "code",
   "execution_count": 27,
   "id": "e085dbca",
   "metadata": {},
   "outputs": [
    {
     "name": "stdout",
     "output_type": "stream",
     "text": [
      "January\n"
     ]
    }
   ],
   "source": [
    "from datetime import datetime\n",
    "datetime_obj = datetime.strptime('2015-01-01 01:00:00', '%Y-%m-%d %H:%M:%S')\n",
    "formatted_month = datetime_obj.strftime(\"%B\")\n",
    "\n",
    "print(formatted_month)"
   ]
  },
  {
   "cell_type": "code",
   "execution_count": 28,
   "id": "1e46eaaf",
   "metadata": {},
   "outputs": [],
   "source": [
    "taxi['month_name'] = taxi.pickup_dt.apply(lambda x: datetime.strptime(x, '%Y-%m-%d %H:%M:%S').strftime(\"%B\"))"
   ]
  },
  {
   "cell_type": "code",
   "execution_count": 29,
   "id": "739ce628",
   "metadata": {},
   "outputs": [
    {
     "data": {
      "text/html": [
       "<div>\n",
       "<style scoped>\n",
       "    .dataframe tbody tr th:only-of-type {\n",
       "        vertical-align: middle;\n",
       "    }\n",
       "\n",
       "    .dataframe tbody tr th {\n",
       "        vertical-align: top;\n",
       "    }\n",
       "\n",
       "    .dataframe thead th {\n",
       "        text-align: right;\n",
       "    }\n",
       "</style>\n",
       "<table border=\"1\" class=\"dataframe\">\n",
       "  <thead>\n",
       "    <tr style=\"text-align: right;\">\n",
       "      <th></th>\n",
       "      <th>month_name</th>\n",
       "      <th>borough</th>\n",
       "      <th>pickups</th>\n",
       "    </tr>\n",
       "  </thead>\n",
       "  <tbody>\n",
       "    <tr>\n",
       "      <th>21</th>\n",
       "      <td>June</td>\n",
       "      <td>Manhattan</td>\n",
       "      <td>1995388</td>\n",
       "    </tr>\n",
       "    <tr>\n",
       "      <th>33</th>\n",
       "      <td>May</td>\n",
       "      <td>Manhattan</td>\n",
       "      <td>1888800</td>\n",
       "    </tr>\n",
       "    <tr>\n",
       "      <th>9</th>\n",
       "      <td>February</td>\n",
       "      <td>Manhattan</td>\n",
       "      <td>1718571</td>\n",
       "    </tr>\n",
       "    <tr>\n",
       "      <th>27</th>\n",
       "      <td>March</td>\n",
       "      <td>Manhattan</td>\n",
       "      <td>1661261</td>\n",
       "    </tr>\n",
       "    <tr>\n",
       "      <th>3</th>\n",
       "      <td>April</td>\n",
       "      <td>Manhattan</td>\n",
       "      <td>1648278</td>\n",
       "    </tr>\n",
       "    <tr>\n",
       "      <th>15</th>\n",
       "      <td>January</td>\n",
       "      <td>Manhattan</td>\n",
       "      <td>1455543</td>\n",
       "    </tr>\n",
       "    <tr>\n",
       "      <th>19</th>\n",
       "      <td>June</td>\n",
       "      <td>Brooklyn</td>\n",
       "      <td>482466</td>\n",
       "    </tr>\n",
       "    <tr>\n",
       "      <th>31</th>\n",
       "      <td>May</td>\n",
       "      <td>Brooklyn</td>\n",
       "      <td>476087</td>\n",
       "    </tr>\n",
       "    <tr>\n",
       "      <th>1</th>\n",
       "      <td>April</td>\n",
       "      <td>Brooklyn</td>\n",
       "      <td>378095</td>\n",
       "    </tr>\n",
       "    <tr>\n",
       "      <th>25</th>\n",
       "      <td>March</td>\n",
       "      <td>Brooklyn</td>\n",
       "      <td>346726</td>\n",
       "    </tr>\n",
       "  </tbody>\n",
       "</table>\n",
       "</div>"
      ],
      "text/plain": [
       "   month_name    borough  pickups\n",
       "21       June  Manhattan  1995388\n",
       "33        May  Manhattan  1888800\n",
       "9    February  Manhattan  1718571\n",
       "27      March  Manhattan  1661261\n",
       "3       April  Manhattan  1648278\n",
       "15    January  Manhattan  1455543\n",
       "19       June   Brooklyn   482466\n",
       "31        May   Brooklyn   476087\n",
       "1       April   Brooklyn   378095\n",
       "25      March   Brooklyn   346726"
      ]
     },
     "execution_count": 29,
     "metadata": {},
     "output_type": "execute_result"
    }
   ],
   "source": [
    "taxi.groupby(['month_name', 'borough'], as_index=False). \\\n",
    "    agg({'pickups': 'sum'}). \\\n",
    "    sort_values('pickups', ascending=False).head(10)"
   ]
  },
  {
   "attachments": {
    "Screenshot_1.png": {
     "image/png": "[encoded data removed]"
    }
   },
   "cell_type": "markdown",
   "id": "baba325d",
   "metadata": {},
   "source": [
    "![Screenshot_1.png](attachment:Screenshot_1.png)"
   ]
  },
  {
   "cell_type": "code",
   "execution_count": 31,
   "id": "b50aad3f",
   "metadata": {},
   "outputs": [],
   "source": [
    "taxi['temp_f'] = taxi.temp.apply(lambda x: 1.8 * x + 32)"
   ]
  },
  {
   "cell_type": "code",
   "execution_count": 30,
   "id": "61e3e63c",
   "metadata": {},
   "outputs": [
    {
     "data": {
      "text/plain": [
       "count    29101.000000\n",
       "mean       117.804276\n",
       "std         35.666944\n",
       "min         35.600000\n",
       "25%         89.600000\n",
       "50%        114.800000\n",
       "75%        148.100000\n",
       "max        192.200000\n",
       "Name: temp_f, dtype: float64"
      ]
     },
     "execution_count": 30,
     "metadata": {},
     "output_type": "execute_result"
    }
   ],
   "source": [
    "taxi.temp_f.describe()"
   ]
  }
 ],
 "metadata": {
  "kernelspec": {
   "display_name": "Python 3 (ipykernel)",
   "language": "python",
   "name": "python3"
  },
  "language_info": {
   "codemirror_mode": {
    "name": "ipython",
    "version": 3
   },
   "file_extension": ".py",
   "mimetype": "text/x-python",
   "name": "python",
   "nbconvert_exporter": "python",
   "pygments_lexer": "ipython3",
   "version": "3.9.13"
  }
 },
 "nbformat": 4,
 "nbformat_minor": 5
}
