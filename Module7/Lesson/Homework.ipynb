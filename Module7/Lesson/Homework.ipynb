{
 "cells": [
  {
   "cell_type": "markdown",
   "id": "61f2aab5",
   "metadata": {},
   "source": [
    "1) ⭐️ Task with an asterisk! ⭐️\n",
    "Load data from Google Sheets, which are located in the folder (table - Sheet1) using the library requests. Calculate the percentage of men among all visitors to the site, round the answer to integers."
   ]
  },
  {
   "cell_type": "code",
   "execution_count": 1,
   "id": "e14ecaef",
   "metadata": {},
   "outputs": [
    {
     "data": {
      "text/plain": [
       "[['date', 'gender', 'users'],\n",
       " ['2020-06-14', 'Not specified', '150'],\n",
       " ['2020-06-14', 'male', '117'],\n",
       " ['2020-06-14', 'female', '21']]"
      ]
     },
     "execution_count": 1,
     "metadata": {},
     "output_type": "execute_result"
    }
   ],
   "source": [
    "import pandas as pd\n",
    "import gspread\n",
    "from oauth2client.service_account import ServiceAccountCredentials\n",
    "\n",
    "# Define the URL to the Google Sheets document\n",
    "url = 'https://docs.google.com/spreadsheets/d/1WZJ_HaJq_SjeUFCjjGPKbkye3lFaPr9pdYI_QwcdS5s/edit?usp=sharing'\n",
    "\n",
    "# Define the scope and credentials for accessing Google Sheets API\n",
    "scope = ['https://spreadsheets.google.com/feeds',\n",
    "         'https://www.googleapis.com/auth/drive']\n",
    "credentials = ServiceAccountCredentials.from_json_keyfile_name('manifest-verve-392606-1884b94a438f.json', scope)\n",
    "\n",
    "# Authorize the credentials and open the Google Sheets document\n",
    "gc = gspread.authorize(credentials)\n",
    "doc = gc.open_by_url(url)\n",
    "\n",
    "# Access a specific worksheet within the document\n",
    "worksheet = doc.worksheet('table - Sheet1')\n",
    "\n",
    "# Get all the values from the worksheet as a list of lists\n",
    "data = worksheet.get_all_values()\n",
    "\n",
    "data"
   ]
  },
  {
   "cell_type": "code",
   "execution_count": 2,
   "id": "ceaf27f5",
   "metadata": {},
   "outputs": [],
   "source": [
    "headers = data.pop(0)"
   ]
  },
  {
   "cell_type": "code",
   "execution_count": 3,
   "id": "5ba37443",
   "metadata": {},
   "outputs": [
    {
     "data": {
      "text/html": [
       "<div>\n",
       "<style scoped>\n",
       "    .dataframe tbody tr th:only-of-type {\n",
       "        vertical-align: middle;\n",
       "    }\n",
       "\n",
       "    .dataframe tbody tr th {\n",
       "        vertical-align: top;\n",
       "    }\n",
       "\n",
       "    .dataframe thead th {\n",
       "        text-align: right;\n",
       "    }\n",
       "</style>\n",
       "<table border=\"1\" class=\"dataframe\">\n",
       "  <thead>\n",
       "    <tr style=\"text-align: right;\">\n",
       "      <th></th>\n",
       "      <th>date</th>\n",
       "      <th>gender</th>\n",
       "      <th>users</th>\n",
       "    </tr>\n",
       "  </thead>\n",
       "  <tbody>\n",
       "    <tr>\n",
       "      <th>0</th>\n",
       "      <td>2020-06-14</td>\n",
       "      <td>Not specified</td>\n",
       "      <td>150</td>\n",
       "    </tr>\n",
       "    <tr>\n",
       "      <th>1</th>\n",
       "      <td>2020-06-14</td>\n",
       "      <td>male</td>\n",
       "      <td>117</td>\n",
       "    </tr>\n",
       "    <tr>\n",
       "      <th>2</th>\n",
       "      <td>2020-06-14</td>\n",
       "      <td>female</td>\n",
       "      <td>21</td>\n",
       "    </tr>\n",
       "  </tbody>\n",
       "</table>\n",
       "</div>"
      ],
      "text/plain": [
       "         date         gender users\n",
       "0  2020-06-14  Not specified   150\n",
       "1  2020-06-14           male   117\n",
       "2  2020-06-14         female    21"
      ]
     },
     "execution_count": 3,
     "metadata": {},
     "output_type": "execute_result"
    }
   ],
   "source": [
    "df = pd.DataFrame(data, columns=headers)\n",
    "df"
   ]
  },
  {
   "cell_type": "code",
   "execution_count": 4,
   "id": "096d5f21",
   "metadata": {},
   "outputs": [
    {
     "data": {
      "text/plain": [
       "date      object\n",
       "gender    object\n",
       "users      int32\n",
       "dtype: object"
      ]
     },
     "execution_count": 4,
     "metadata": {},
     "output_type": "execute_result"
    }
   ],
   "source": [
    "df.users = df.users.astype(int)\n",
    "df.dtypes"
   ]
  },
  {
   "cell_type": "code",
   "execution_count": 5,
   "id": "8946fedb",
   "metadata": {},
   "outputs": [
    {
     "data": {
      "text/plain": [
       "41"
      ]
     },
     "execution_count": 5,
     "metadata": {},
     "output_type": "execute_result"
    }
   ],
   "source": [
    "int(round(df.query('gender == \"male\"').users / df.users.sum() * 100))"
   ]
  },
  {
   "cell_type": "markdown",
   "id": "3a9ebc96",
   "metadata": {},
   "source": [
    "2) Download the file with Yandex.Metric site attendance data (karpov_courses_test.csv). Using the np.where function, create a series that will record 1 if the visits were made by robots from a browser containing Chrome in the name and 0 in other cases. Put the resulting series into the chrome_robots variable.\n",
    "\n",
    "May need:\n",
    "str.contains()"
   ]
  },
  {
   "cell_type": "code",
   "execution_count": 9,
   "id": "3f095b53",
   "metadata": {},
   "outputs": [
    {
     "data": {
      "text/html": [
       "<div>\n",
       "<style scoped>\n",
       "    .dataframe tbody tr th:only-of-type {\n",
       "        vertical-align: middle;\n",
       "    }\n",
       "\n",
       "    .dataframe tbody tr th {\n",
       "        vertical-align: top;\n",
       "    }\n",
       "\n",
       "    .dataframe thead th {\n",
       "        text-align: right;\n",
       "    }\n",
       "</style>\n",
       "<table border=\"1\" class=\"dataframe\">\n",
       "  <thead>\n",
       "    <tr style=\"text-align: right;\">\n",
       "      <th></th>\n",
       "      <th>date</th>\n",
       "      <th>browser</th>\n",
       "      <th>user_type</th>\n",
       "      <th>users</th>\n",
       "    </tr>\n",
       "  </thead>\n",
       "  <tbody>\n",
       "    <tr>\n",
       "      <th>0</th>\n",
       "      <td>2020-06-14</td>\n",
       "      <td>Google Chrome</td>\n",
       "      <td>People</td>\n",
       "      <td>139</td>\n",
       "    </tr>\n",
       "    <tr>\n",
       "      <th>1</th>\n",
       "      <td>2020-06-14</td>\n",
       "      <td>Chrome Mobile</td>\n",
       "      <td>People</td>\n",
       "      <td>35</td>\n",
       "    </tr>\n",
       "    <tr>\n",
       "      <th>2</th>\n",
       "      <td>2020-06-14</td>\n",
       "      <td>Google Chrome</td>\n",
       "      <td>Robots</td>\n",
       "      <td>28</td>\n",
       "    </tr>\n",
       "    <tr>\n",
       "      <th>3</th>\n",
       "      <td>2020-06-14</td>\n",
       "      <td>Yandex Browser</td>\n",
       "      <td>People</td>\n",
       "      <td>22</td>\n",
       "    </tr>\n",
       "    <tr>\n",
       "      <th>4</th>\n",
       "      <td>2020-06-14</td>\n",
       "      <td>Firefox</td>\n",
       "      <td>People</td>\n",
       "      <td>15</td>\n",
       "    </tr>\n",
       "  </tbody>\n",
       "</table>\n",
       "</div>"
      ],
      "text/plain": [
       "         date         browser user_type  users\n",
       "0  2020-06-14   Google Chrome    People    139\n",
       "1  2020-06-14   Chrome Mobile    People     35\n",
       "2  2020-06-14   Google Chrome    Robots     28\n",
       "3  2020-06-14  Yandex Browser    People     22\n",
       "4  2020-06-14         Firefox    People     15"
      ]
     },
     "execution_count": 9,
     "metadata": {},
     "output_type": "execute_result"
    }
   ],
   "source": [
    "df = pd.read_csv('C:/Users/stask/Analitics_Karpov/Module7/Lesson/karpov_courses_test.csv')\n",
    "df.head()"
   ]
  },
  {
   "cell_type": "code",
   "execution_count": 18,
   "id": "826d7207",
   "metadata": {},
   "outputs": [],
   "source": [
    "import numpy as np"
   ]
  },
  {
   "cell_type": "code",
   "execution_count": 20,
   "id": "5c87b17a",
   "metadata": {},
   "outputs": [
    {
     "data": {
      "text/plain": [
       "array([0, 0, 1, 0, 0, 0, 0, 0, 0, 0, 0, 0, 0, 0, 0, 0, 0, 0, 0, 1, 0, 0,\n",
       "       0, 0])"
      ]
     },
     "execution_count": 20,
     "metadata": {},
     "output_type": "execute_result"
    }
   ],
   "source": [
    "# (df.user_type == \"Robots\") & (df.browser.str.contains('Chrome'))\n",
    "np.where((df.user_type == \"Robots\") & (df.browser.str.contains('Chrome')), 1, 0)"
   ]
  },
  {
   "cell_type": "code",
   "execution_count": 24,
   "id": "35bdf571",
   "metadata": {},
   "outputs": [],
   "source": [
    "chrome_robots = pd.Series(np.where((df.user_type == \"Robots\") & (df.browser.str.contains('Chrome')), 1, 0))\n",
    "# df.user_type.map({'People':'Humans', 'Robots':'Bots'})"
   ]
  },
  {
   "cell_type": "code",
   "execution_count": 25,
   "id": "ec309091",
   "metadata": {},
   "outputs": [
    {
     "data": {
      "text/plain": [
       "0    0\n",
       "1    0\n",
       "2    1\n",
       "3    0\n",
       "4    0\n",
       "dtype: int32"
      ]
     },
     "execution_count": 25,
     "metadata": {},
     "output_type": "execute_result"
    }
   ],
   "source": [
    "chrome_robots.head()\n"
   ]
  },
  {
   "cell_type": "markdown",
   "id": "b925bde6",
   "metadata": {},
   "source": [
    "3) ⭐️ Task with an asterisk!⭐️\n",
    "You have a dataset sample_ads.csv with data on clicks and impressions by ad, there are gaps in this dataset. Calculate the number of rows with no skips in the click_type column. Write the answer to the not_nan_count variable\n",
    "\n",
    "    ad_id - ad id\n",
    "    user_id - user id\n",
    "    click_type - click type (click on the ad title, click in the centre)."
   ]
  },
  {
   "cell_type": "code",
   "execution_count": 31,
   "id": "6e1575aa",
   "metadata": {},
   "outputs": [
    {
     "data": {
      "text/plain": [
       "ad_id          int64\n",
       "user_id       object\n",
       "click_type    object\n",
       "dtype: object"
      ]
     },
     "execution_count": 31,
     "metadata": {},
     "output_type": "execute_result"
    }
   ],
   "source": [
    "df = pd.read_csv('C:/Users/stask/Analitics_Karpov/Module7/Lesson/sample_ads.csv')\n",
    "df.dtypes"
   ]
  },
  {
   "cell_type": "code",
   "execution_count": 39,
   "id": "f7a51a9a",
   "metadata": {},
   "outputs": [
    {
     "data": {
      "text/plain": [
       "11"
      ]
     },
     "execution_count": 39,
     "metadata": {},
     "output_type": "execute_result"
    }
   ],
   "source": [
    "# not_nan_count = df['click_type'].dropna().shape[0]\n",
    "(~df.click_type.isna()).sum()"
   ]
  },
  {
   "cell_type": "markdown",
   "id": "35b76f68",
   "metadata": {},
   "source": [
    "4) ⭐️ Task with an asterisk!⭐️\n",
    "The lst list contains various items. Create a new_list and do the following:\n",
    "- using the try except and loop construct, try to convert each value in the list to int\n",
    "- if it succeeds - add the converted value to the new_list."
   ]
  },
  {
   "cell_type": "code",
   "execution_count": 45,
   "id": "3fb4953c",
   "metadata": {},
   "outputs": [
    {
     "name": "stdout",
     "output_type": "stream",
     "text": [
      "A problem with data in list\n"
     ]
    }
   ],
   "source": [
    "lst = ['0', '1', 'Hello', '57']\n",
    "try:\n",
    "    new_list = [int(i) for i in lst]\n",
    "except:\n",
    "    print('A problem with data in list')"
   ]
  },
  {
   "cell_type": "markdown",
   "id": "d8b574a1",
   "metadata": {},
   "source": [
    "5) ⭐️ Task with an asterisk! ⭐️\n",
    "Now let's try to use the knowledge of using Telegram API. Send any message to yourself in a private message box, and in response to this step write the nickname of the bot on behalf of which you will send messages."
   ]
  },
  {
   "cell_type": "code",
   "execution_count": 51,
   "id": "baf3d762",
   "metadata": {},
   "outputs": [],
   "source": [
    "import requests\n",
    "import json\n",
    "from urllib.parse import urlencode\n",
    "\n",
    "\n",
    "token = '6318778754:AAHkPoabEE-i_4w2u82wIRiS50sDbJPSJQ4'\n",
    "chat_id = 342603321  # your chat id\n",
    "\n",
    "message = 'Hello, Stas'  # text which you want to send\n",
    "\n",
    "params = {'chat_id': chat_id, 'text': message}\n",
    "\n",
    "base_url = f'https://api.telegram.org/bot{token}/'\n",
    "url = base_url + 'sendMessage?' + urlencode(params)\n",
    "\n",
    "resp = requests.get(url)"
   ]
  }
 ],
 "metadata": {
  "kernelspec": {
   "display_name": "Python 3 (ipykernel)",
   "language": "python",
   "name": "python3"
  },
  "language_info": {
   "codemirror_mode": {
    "name": "ipython",
    "version": 3
   },
   "file_extension": ".py",
   "mimetype": "text/x-python",
   "name": "python",
   "nbconvert_exporter": "python",
   "pygments_lexer": "ipython3",
   "version": "3.9.13"
  }
 },
 "nbformat": 4,
 "nbformat_minor": 5
}
