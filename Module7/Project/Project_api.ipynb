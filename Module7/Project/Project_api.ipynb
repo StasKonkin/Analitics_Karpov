{
 "cells": [
  {
   "cell_type": "markdown",
   "id": "4b3f0a2c",
   "metadata": {},
   "source": [
    "# step_1_lesson_7.csv\n",
    "First, let's look at the distribution of site visits by day. Build a graph with the distribution of the number of visits from bots and regular users of Yandex.Metrika. The data for plotting the graph is stored here."
   ]
  },
  {
   "cell_type": "code",
   "execution_count": 1,
   "id": "50b575e8",
   "metadata": {},
   "outputs": [],
   "source": [
    "import pandas as pd\n",
    "import seaborn as sns"
   ]
  },
  {
   "cell_type": "code",
   "execution_count": 2,
   "id": "49af849a",
   "metadata": {},
   "outputs": [],
   "source": [
    "df = pd.read_csv('C:/Users/stask/Analitics_Karpov/Module7/Project/step_1_lesson_7.csv')"
   ]
  },
  {
   "cell_type": "code",
   "execution_count": 3,
   "id": "3e5c05b7",
   "metadata": {},
   "outputs": [
    {
     "data": {
      "text/plain": [
       "<AxesSubplot:xlabel='date', ylabel='visits'>"
      ]
     },
     "execution_count": 3,
     "metadata": {},
     "output_type": "execute_result"
    },
    {
     "data": {
      "image/png": "[encoded data removed]",
      "text/plain": [
       "<Figure size 640x480 with 1 Axes>"
      ]
     },
     "metadata": {},
     "output_type": "display_data"
    }
   ],
   "source": [
    "sns.barplot(data=df,\n",
    "            x='date',\n",
    "            y='visits',\n",
    "            hue='user_type')"
   ]
  },
  {
   "cell_type": "markdown",
   "id": "8240e988",
   "metadata": {},
   "source": [
    "# step_2_lesson_7.csv\n",
    "Determine the percentage of visits to the Yandex.Metrics site from the Google Chrome browser. The data is stored here.\n",
    "Round the answer to whole numbers."
   ]
  },
  {
   "cell_type": "code",
   "execution_count": 4,
   "id": "dd0d1654",
   "metadata": {},
   "outputs": [
    {
     "data": {
      "text/html": [
       "<div>\n",
       "<style scoped>\n",
       "    .dataframe tbody tr th:only-of-type {\n",
       "        vertical-align: middle;\n",
       "    }\n",
       "\n",
       "    .dataframe tbody tr th {\n",
       "        vertical-align: top;\n",
       "    }\n",
       "\n",
       "    .dataframe thead th {\n",
       "        text-align: right;\n",
       "    }\n",
       "</style>\n",
       "<table border=\"1\" class=\"dataframe\">\n",
       "  <thead>\n",
       "    <tr style=\"text-align: right;\">\n",
       "      <th></th>\n",
       "      <th>date</th>\n",
       "      <th>browser</th>\n",
       "      <th>visits</th>\n",
       "    </tr>\n",
       "  </thead>\n",
       "  <tbody>\n",
       "    <tr>\n",
       "      <th>0</th>\n",
       "      <td>2020-06-15</td>\n",
       "      <td>Google Chrome</td>\n",
       "      <td>354.0</td>\n",
       "    </tr>\n",
       "    <tr>\n",
       "      <th>1</th>\n",
       "      <td>2020-06-15</td>\n",
       "      <td>Firefox</td>\n",
       "      <td>58.0</td>\n",
       "    </tr>\n",
       "    <tr>\n",
       "      <th>2</th>\n",
       "      <td>2020-06-15</td>\n",
       "      <td>Yandex Browser</td>\n",
       "      <td>54.0</td>\n",
       "    </tr>\n",
       "    <tr>\n",
       "      <th>3</th>\n",
       "      <td>2020-06-15</td>\n",
       "      <td>Safari</td>\n",
       "      <td>41.0</td>\n",
       "    </tr>\n",
       "    <tr>\n",
       "      <th>4</th>\n",
       "      <td>2020-06-15</td>\n",
       "      <td>Chrome Mobile</td>\n",
       "      <td>31.0</td>\n",
       "    </tr>\n",
       "  </tbody>\n",
       "</table>\n",
       "</div>"
      ],
      "text/plain": [
       "         date         browser  visits\n",
       "0  2020-06-15   Google Chrome   354.0\n",
       "1  2020-06-15         Firefox    58.0\n",
       "2  2020-06-15  Yandex Browser    54.0\n",
       "3  2020-06-15          Safari    41.0\n",
       "4  2020-06-15   Chrome Mobile    31.0"
      ]
     },
     "execution_count": 4,
     "metadata": {},
     "output_type": "execute_result"
    }
   ],
   "source": [
    "yandex_df = pd.read_csv('C:/Users/stask/Analitics_Karpov/Module7/Project/step_2_lesson_7.csv')\n",
    "yandex_df.head()"
   ]
  },
  {
   "cell_type": "code",
   "execution_count": 5,
   "id": "cca9624a",
   "metadata": {},
   "outputs": [
    {
     "data": {
      "text/plain": [
       "60"
      ]
     },
     "execution_count": 5,
     "metadata": {},
     "output_type": "execute_result"
    }
   ],
   "source": [
    "round(yandex_df.query('browser == \"Google Chrome\"').visits.sum() / yandex_df.visits.sum() * 100)"
   ]
  },
  {
   "cell_type": "markdown",
   "id": "b1febb0c",
   "metadata": {},
   "source": [
    "# step_3_lesson_7.csv\n",
    "Let's find out which browser gets the most bots. Look at the data and determine which browser has the LARGEST proportion of bot visits to the site as a percentage of total visits?\n",
    "Include the name of the browser as your answer."
   ]
  },
  {
   "cell_type": "code",
   "execution_count": 6,
   "id": "e3aca169",
   "metadata": {},
   "outputs": [
    {
     "data": {
      "text/html": [
       "<div>\n",
       "<style scoped>\n",
       "    .dataframe tbody tr th:only-of-type {\n",
       "        vertical-align: middle;\n",
       "    }\n",
       "\n",
       "    .dataframe tbody tr th {\n",
       "        vertical-align: top;\n",
       "    }\n",
       "\n",
       "    .dataframe thead th {\n",
       "        text-align: right;\n",
       "    }\n",
       "</style>\n",
       "<table border=\"1\" class=\"dataframe\">\n",
       "  <thead>\n",
       "    <tr style=\"text-align: right;\">\n",
       "      <th></th>\n",
       "      <th>date</th>\n",
       "      <th>browser</th>\n",
       "      <th>user_type</th>\n",
       "      <th>visits</th>\n",
       "    </tr>\n",
       "  </thead>\n",
       "  <tbody>\n",
       "    <tr>\n",
       "      <th>0</th>\n",
       "      <td>2020-06-15</td>\n",
       "      <td>Google Chrome</td>\n",
       "      <td>People</td>\n",
       "      <td>250.0</td>\n",
       "    </tr>\n",
       "    <tr>\n",
       "      <th>1</th>\n",
       "      <td>2020-06-15</td>\n",
       "      <td>Google Chrome</td>\n",
       "      <td>Robots</td>\n",
       "      <td>104.0</td>\n",
       "    </tr>\n",
       "    <tr>\n",
       "      <th>2</th>\n",
       "      <td>2020-06-15</td>\n",
       "      <td>Yandex Browser</td>\n",
       "      <td>People</td>\n",
       "      <td>47.0</td>\n",
       "    </tr>\n",
       "    <tr>\n",
       "      <th>3</th>\n",
       "      <td>2020-06-15</td>\n",
       "      <td>Firefox</td>\n",
       "      <td>Robots</td>\n",
       "      <td>31.0</td>\n",
       "    </tr>\n",
       "    <tr>\n",
       "      <th>4</th>\n",
       "      <td>2020-06-15</td>\n",
       "      <td>Chrome Mobile</td>\n",
       "      <td>People</td>\n",
       "      <td>31.0</td>\n",
       "    </tr>\n",
       "  </tbody>\n",
       "</table>\n",
       "</div>"
      ],
      "text/plain": [
       "         date         browser user_type  visits\n",
       "0  2020-06-15   Google Chrome    People   250.0\n",
       "1  2020-06-15   Google Chrome    Robots   104.0\n",
       "2  2020-06-15  Yandex Browser    People    47.0\n",
       "3  2020-06-15         Firefox    Robots    31.0\n",
       "4  2020-06-15   Chrome Mobile    People    31.0"
      ]
     },
     "execution_count": 6,
     "metadata": {},
     "output_type": "execute_result"
    }
   ],
   "source": [
    "visits_df = pd.read_csv('C:/Users/stask/Analitics_Karpov/Module7/Project/step_3_lesson_7.csv')\n",
    "visits_df.head()"
   ]
  },
  {
   "cell_type": "code",
   "execution_count": 7,
   "id": "f50f9a4f",
   "metadata": {},
   "outputs": [],
   "source": [
    "user_type_by_browser = visits_df.query('user_type == \"Robots\"').groupby(['browser','user_type']).agg({'visits':'sum'})"
   ]
  },
  {
   "cell_type": "code",
   "execution_count": 8,
   "id": "3304ab8e",
   "metadata": {},
   "outputs": [],
   "source": [
    "browser_total = visits_df.groupby(['browser']).agg({'visits':'sum'})"
   ]
  },
  {
   "cell_type": "code",
   "execution_count": 9,
   "id": "0bc6c3a4",
   "metadata": {},
   "outputs": [
    {
     "data": {
      "text/html": [
       "<div>\n",
       "<style scoped>\n",
       "    .dataframe tbody tr th:only-of-type {\n",
       "        vertical-align: middle;\n",
       "    }\n",
       "\n",
       "    .dataframe tbody tr th {\n",
       "        vertical-align: top;\n",
       "    }\n",
       "\n",
       "    .dataframe thead th {\n",
       "        text-align: right;\n",
       "    }\n",
       "</style>\n",
       "<table border=\"1\" class=\"dataframe\">\n",
       "  <thead>\n",
       "    <tr style=\"text-align: right;\">\n",
       "      <th></th>\n",
       "      <th>visits_robot</th>\n",
       "      <th>visits_total</th>\n",
       "    </tr>\n",
       "    <tr>\n",
       "      <th>browser</th>\n",
       "      <th></th>\n",
       "      <th></th>\n",
       "    </tr>\n",
       "  </thead>\n",
       "  <tbody>\n",
       "    <tr>\n",
       "      <th>Chromium</th>\n",
       "      <td>1.0</td>\n",
       "      <td>2.0</td>\n",
       "    </tr>\n",
       "    <tr>\n",
       "      <th>Edge</th>\n",
       "      <td>1.0</td>\n",
       "      <td>5.0</td>\n",
       "    </tr>\n",
       "    <tr>\n",
       "      <th>Firefox</th>\n",
       "      <td>31.0</td>\n",
       "      <td>58.0</td>\n",
       "    </tr>\n",
       "    <tr>\n",
       "      <th>Google Chrome</th>\n",
       "      <td>104.0</td>\n",
       "      <td>354.0</td>\n",
       "    </tr>\n",
       "    <tr>\n",
       "      <th>Mobile Safari</th>\n",
       "      <td>1.0</td>\n",
       "      <td>16.0</td>\n",
       "    </tr>\n",
       "    <tr>\n",
       "      <th>Opera</th>\n",
       "      <td>5.0</td>\n",
       "      <td>16.0</td>\n",
       "    </tr>\n",
       "    <tr>\n",
       "      <th>Safari</th>\n",
       "      <td>22.0</td>\n",
       "      <td>41.0</td>\n",
       "    </tr>\n",
       "    <tr>\n",
       "      <th>Samsung Internet</th>\n",
       "      <td>1.0</td>\n",
       "      <td>9.0</td>\n",
       "    </tr>\n",
       "    <tr>\n",
       "      <th>UCWEB</th>\n",
       "      <td>4.0</td>\n",
       "      <td>4.0</td>\n",
       "    </tr>\n",
       "    <tr>\n",
       "      <th>Yandex Browser</th>\n",
       "      <td>7.0</td>\n",
       "      <td>54.0</td>\n",
       "    </tr>\n",
       "  </tbody>\n",
       "</table>\n",
       "</div>"
      ],
      "text/plain": [
       "                  visits_robot  visits_total\n",
       "browser                                     \n",
       "Chromium                   1.0           2.0\n",
       "Edge                       1.0           5.0\n",
       "Firefox                   31.0          58.0\n",
       "Google Chrome            104.0         354.0\n",
       "Mobile Safari              1.0          16.0\n",
       "Opera                      5.0          16.0\n",
       "Safari                    22.0          41.0\n",
       "Samsung Internet           1.0           9.0\n",
       "UCWEB                      4.0           4.0\n",
       "Yandex Browser             7.0          54.0"
      ]
     },
     "execution_count": 9,
     "metadata": {},
     "output_type": "execute_result"
    }
   ],
   "source": [
    "merged_df = user_type_by_browser.merge(browser_total, on='browser', suffixes=['_robot', '_total'])\n",
    "merged_df"
   ]
  },
  {
   "cell_type": "code",
   "execution_count": 10,
   "id": "15840694",
   "metadata": {},
   "outputs": [
    {
     "data": {
      "text/plain": [
       "browser\n",
       "Chromium            0.500000\n",
       "Edge                0.200000\n",
       "Firefox             0.534483\n",
       "Google Chrome       0.293785\n",
       "Mobile Safari       0.062500\n",
       "Opera               0.312500\n",
       "Safari              0.536585\n",
       "Samsung Internet    0.111111\n",
       "UCWEB               1.000000\n",
       "Yandex Browser      0.129630\n",
       "dtype: float64"
      ]
     },
     "execution_count": 10,
     "metadata": {},
     "output_type": "execute_result"
    }
   ],
   "source": [
    "(merged_df.visits_robot / merged_df.visits_total)"
   ]
  },
  {
   "cell_type": "markdown",
   "id": "29e0a17a",
   "metadata": {},
   "source": [
    "# step_4_lesson_7.csv\n",
    "Aggregate the data by day, user type, browser, and create a column with a metric for the percentage of visits to the site for each of these sections.\n",
    "In your answer, enter the percentage of times the site was opened by real Safari users (not bots) to 1 decimal place.\n",
    "Hint: note, here you need to find the proportion of visits by specific types of users from a specific browser to all-all visits to the site for that day.\n"
   ]
  },
  {
   "cell_type": "code",
   "execution_count": 11,
   "id": "99185287",
   "metadata": {},
   "outputs": [
    {
     "data": {
      "text/html": [
       "<div>\n",
       "<style scoped>\n",
       "    .dataframe tbody tr th:only-of-type {\n",
       "        vertical-align: middle;\n",
       "    }\n",
       "\n",
       "    .dataframe tbody tr th {\n",
       "        vertical-align: top;\n",
       "    }\n",
       "\n",
       "    .dataframe thead th {\n",
       "        text-align: right;\n",
       "    }\n",
       "</style>\n",
       "<table border=\"1\" class=\"dataframe\">\n",
       "  <thead>\n",
       "    <tr style=\"text-align: right;\">\n",
       "      <th></th>\n",
       "      <th>date</th>\n",
       "      <th>browser</th>\n",
       "      <th>user_type</th>\n",
       "      <th>visits</th>\n",
       "      <th>percent</th>\n",
       "    </tr>\n",
       "  </thead>\n",
       "  <tbody>\n",
       "    <tr>\n",
       "      <th>7</th>\n",
       "      <td>2020-06-15</td>\n",
       "      <td>Safari</td>\n",
       "      <td>People</td>\n",
       "      <td>19.0</td>\n",
       "      <td>3.198653</td>\n",
       "    </tr>\n",
       "  </tbody>\n",
       "</table>\n",
       "</div>"
      ],
      "text/plain": [
       "         date browser user_type  visits   percent\n",
       "7  2020-06-15  Safari    People    19.0  3.198653"
      ]
     },
     "execution_count": 11,
     "metadata": {},
     "output_type": "execute_result"
    }
   ],
   "source": [
    "visits_df['percent'] = visits_df.visits / visits_df.visits.sum() * 100\n",
    "visits_df.query('user_type == \"People\" and browser == \"Safari\"')"
   ]
  },
  {
   "cell_type": "markdown",
   "id": "f0f90012",
   "metadata": {},
   "source": [
    "# 💀 Tough assignment! 💀\n",
    "Using the gspread library, send the data from the previous step to Google SpreadSheet. Then send a link to the resulting file in Google SpreadSheet (don't forget to open access to the link, you can do it manually when the data is already poured into the table) using vk api to yourself in VKontakte. "
   ]
  },
  {
   "cell_type": "code",
   "execution_count": 12,
   "id": "8a8fff5a",
   "metadata": {},
   "outputs": [],
   "source": [
    "import gspread\n",
    "from df2gspread import df2gspread as d2g\n",
    "from oauth2client.service_account import ServiceAccountCredentials\n",
    "import credentials"
   ]
  },
  {
   "cell_type": "code",
   "execution_count": 13,
   "id": "84c6c8b1",
   "metadata": {},
   "outputs": [
    {
     "data": {
      "text/plain": [
       "<gspread.client.Client at 0x20e2d762c70>"
      ]
     },
     "execution_count": 13,
     "metadata": {},
     "output_type": "execute_result"
    }
   ],
   "source": [
    "# Set up credentials\n",
    "scope = ['https://spreadsheets.google.com/feeds', 'https://www.googleapis.com/auth/drive']\n",
    "my_mail = 'staskv2000@gmail.com'\n",
    "# Don't forget to add a file with key in current folder\n",
    "credents = ServiceAccountCredentials.from_json_keyfile_name(credentials.google_token, scope)\n",
    "gs = gspread.authorize(credents)\n",
    "gs"
   ]
  },
  {
   "cell_type": "code",
   "execution_count": 14,
   "id": "cd8986ec",
   "metadata": {},
   "outputs": [
    {
     "data": {
      "text/plain": [
       "<Response [200]>"
      ]
     },
     "execution_count": 14,
     "metadata": {},
     "output_type": "execute_result"
    }
   ],
   "source": [
    "# creating and opening a new table and giving an access\n",
    "table_name = 'some_test'\n",
    "gs.create(table_name)\n",
    "table = gs.open(table_name)\n",
    "\n",
    "table.share(my_mail, perm_type='user', role='writer')"
   ]
  },
  {
   "cell_type": "code",
   "execution_count": 15,
   "id": "c289e5f3",
   "metadata": {},
   "outputs": [
    {
     "data": {
      "text/plain": [
       "<Worksheet 'New' id:1266254212>"
      ]
     },
     "execution_count": 15,
     "metadata": {},
     "output_type": "execute_result"
    }
   ],
   "source": [
    "# let's upload this df to a new sheet\n",
    "sheet = 'New'\n",
    "d2g.upload(visits_df, \n",
    "           table_name, \n",
    "           sheet, \n",
    "           credentials=credents, \n",
    "           row_names=True)"
   ]
  },
  {
   "cell_type": "code",
   "execution_count": 16,
   "id": "70ebf982",
   "metadata": {},
   "outputs": [],
   "source": [
    "# Let's send a link to this file to our vk chat and than send an attachment \n",
    "import vk_api\n",
    "import numpy as np\n",
    "import requests\n",
    "import json"
   ]
  },
  {
   "cell_type": "code",
   "execution_count": 17,
   "id": "e6b5081c",
   "metadata": {},
   "outputs": [],
   "source": [
    "vk_session = vk_api.VkApi(token=credentials.vk_token)\n",
    "vk = vk_session.get_api()"
   ]
  },
  {
   "cell_type": "code",
   "execution_count": 18,
   "id": "32784c82",
   "metadata": {},
   "outputs": [],
   "source": [
    "link_doc = 'https://docs.google.com/spreadsheets/d/1CgPJjLS6HC84n8S6VW8Uv_fI83RFI9RmlsunwDclYiM/edit#gid=511000791'"
   ]
  },
  {
   "cell_type": "code",
   "execution_count": 19,
   "id": "424aa743",
   "metadata": {},
   "outputs": [
    {
     "data": {
      "text/plain": [
       "0"
      ]
     },
     "execution_count": 19,
     "metadata": {},
     "output_type": "execute_result"
    }
   ],
   "source": [
    "vk.messages.send(chat_id=1,\n",
    "               random_id=np.random.randint(0, 2**31),\n",
    "               message=f'Hello, here is the link to report you asked: \\n{link_doc}')"
   ]
  },
  {
   "cell_type": "code",
   "execution_count": 20,
   "id": "9c292190",
   "metadata": {},
   "outputs": [
    {
     "data": {
      "text/plain": [
       "'https://pu.vk.com/c909628/upload.php?act=add_doc_new&mid=-221510692&aid=-1&gid=0&type=0&peer_id=812200163&rhash=711af809e3150f7fb14a16d0bd29b3a8&api=1&server=909628&_origin=https%3A%2F%2Fapi.vk.com&_sig=40d0becb7ee8957aa8ef00d1876dda1c'"
      ]
     },
     "execution_count": 20,
     "metadata": {},
     "output_type": "execute_result"
    }
   ],
   "source": [
    "# Specify path to the file and its future name in the message\n",
    "my_id = 812200163\n",
    "\n",
    "path_to_file = 'C:/Users/stask/Analitics_Karpov/Module3/Homework.pdf'\n",
    "file_name = 'homework_module3.pdf'\n",
    "\n",
    "upload_url = vk.docs.getMessagesUploadServer(peer_id=my_id)[\"upload_url\"]\n",
    "upload_url"
   ]
  },
  {
   "cell_type": "code",
   "execution_count": 21,
   "id": "6de58c4b",
   "metadata": {},
   "outputs": [],
   "source": [
    "with open(path_to_file,'rb') as f:\n",
    "    file = {'file':(file_name,f)}\n",
    "    response = requests.post(upload_url,files=file)"
   ]
  },
  {
   "cell_type": "code",
   "execution_count": 22,
   "id": "1dd197f8",
   "metadata": {},
   "outputs": [],
   "source": [
    "json_data = json.loads(response.text)\n",
    "saved_file = vk.docs.save(file=json_data['file'], title=file_name)\n",
    "attachment = 'doc{}_{}'.format(saved_file['doc']['owner_id'], saved_file['doc']['id'])"
   ]
  },
  {
   "cell_type": "code",
   "execution_count": 23,
   "id": "141dcaa2",
   "metadata": {},
   "outputs": [
    {
     "data": {
      "text/plain": [
       "{'type': 'doc',\n",
       " 'doc': {'id': 667360376,\n",
       "  'owner_id': 812200163,\n",
       "  'title': 'homework_module3.pdf',\n",
       "  'size': 302330,\n",
       "  'ext': 'pdf',\n",
       "  'date': 1689489962,\n",
       "  'type': 1,\n",
       "  'url': 'https://vk.com/doc812200163_667360376?hash=4cLyQMsZzacTDJtPPjCB2XSx3UkVz0QeZN1kYkniFXw&dl=jPmUVAHOXxrJBcoSyRTc46WHHaTu3cHMX0zRV0XWfvg&api=1&no_preview=1',\n",
       "  'is_unsafe': 0}}"
      ]
     },
     "execution_count": 23,
     "metadata": {},
     "output_type": "execute_result"
    }
   ],
   "source": [
    "saved_file"
   ]
  },
  {
   "cell_type": "code",
   "execution_count": 24,
   "id": "26bafe86",
   "metadata": {},
   "outputs": [
    {
     "data": {
      "text/plain": [
       "0"
      ]
     },
     "execution_count": 24,
     "metadata": {},
     "output_type": "execute_result"
    }
   ],
   "source": [
    "vk.messages.send(\n",
    "    chat_id=1,  # id of chat where to send\n",
    "    random_id=np.random.randint(1, 2 ** 31),  # random number for message identification\n",
    "    message='Got a parcel for your boy!',  # message text, optional here\n",
    "    attachment=attachment)  # attachment name "
   ]
  },
  {
   "cell_type": "markdown",
   "id": "3e52e109",
   "metadata": {},
   "source": [
    "⭐️ Assignment with an asterisk! ⭐️\n",
    "Another analyst has already aggregated some of the data from the metric, and you need to combine efforts to get the final report. Read the additional data from Google SpreadSheet, merge your table from the previous step with the analyst's table and calculate the number of visits per person (visits to users ratio) broken down by browser and Robots/People values.\n",
    "In your answer, indicate how many visits per unique user are made by bots from the Google Chrome browser (round up to integers)\n",
    "This is how you can read another analyst's data:\n",
    "\n",
    "from io import BytesIO\n",
    "import requests\n",
    "r = requests.get('https://docs.google.com/spreadsheets/d/e/2PACX-1vQWMsvBTVio9C7IOOxfFO9C15BRHyME-_ENHqBodDOjuiHwk9fCuF5hUVmDs497PZOqPYK3exdSikOK/pub?gid=1006633900&single=true&output=csv')\n",
    "data = r.content\n",
    "\n",
    "df = pd.read_csv(BytesIO(data))"
   ]
  },
  {
   "cell_type": "code",
   "execution_count": 29,
   "id": "5583678c",
   "metadata": {},
   "outputs": [
    {
     "data": {
      "text/html": [
       "<div>\n",
       "<style scoped>\n",
       "    .dataframe tbody tr th:only-of-type {\n",
       "        vertical-align: middle;\n",
       "    }\n",
       "\n",
       "    .dataframe tbody tr th {\n",
       "        vertical-align: top;\n",
       "    }\n",
       "\n",
       "    .dataframe thead th {\n",
       "        text-align: right;\n",
       "    }\n",
       "</style>\n",
       "<table border=\"1\" class=\"dataframe\">\n",
       "  <thead>\n",
       "    <tr style=\"text-align: right;\">\n",
       "      <th></th>\n",
       "      <th>date</th>\n",
       "      <th>browser</th>\n",
       "      <th>user_type</th>\n",
       "      <th>visits</th>\n",
       "    </tr>\n",
       "  </thead>\n",
       "  <tbody>\n",
       "    <tr>\n",
       "      <th>0</th>\n",
       "      <td>2020-06-15</td>\n",
       "      <td>Google Chrome</td>\n",
       "      <td>People</td>\n",
       "      <td>250.0</td>\n",
       "    </tr>\n",
       "    <tr>\n",
       "      <th>1</th>\n",
       "      <td>2020-06-15</td>\n",
       "      <td>Google Chrome</td>\n",
       "      <td>Robots</td>\n",
       "      <td>104.0</td>\n",
       "    </tr>\n",
       "    <tr>\n",
       "      <th>2</th>\n",
       "      <td>2020-06-15</td>\n",
       "      <td>Yandex Browser</td>\n",
       "      <td>People</td>\n",
       "      <td>47.0</td>\n",
       "    </tr>\n",
       "    <tr>\n",
       "      <th>3</th>\n",
       "      <td>2020-06-15</td>\n",
       "      <td>Firefox</td>\n",
       "      <td>Robots</td>\n",
       "      <td>31.0</td>\n",
       "    </tr>\n",
       "    <tr>\n",
       "      <th>4</th>\n",
       "      <td>2020-06-15</td>\n",
       "      <td>Chrome Mobile</td>\n",
       "      <td>People</td>\n",
       "      <td>31.0</td>\n",
       "    </tr>\n",
       "  </tbody>\n",
       "</table>\n",
       "</div>"
      ],
      "text/plain": [
       "         date         browser user_type  visits\n",
       "0  2020-06-15   Google Chrome    People   250.0\n",
       "1  2020-06-15   Google Chrome    Robots   104.0\n",
       "2  2020-06-15  Yandex Browser    People    47.0\n",
       "3  2020-06-15         Firefox    Robots    31.0\n",
       "4  2020-06-15   Chrome Mobile    People    31.0"
      ]
     },
     "execution_count": 29,
     "metadata": {},
     "output_type": "execute_result"
    }
   ],
   "source": [
    "df1 = pd.read_csv('C:/Users/stask/Analitics_Karpov/Module7/Project/step_4_lesson_7.csv')\n",
    "df1.head()"
   ]
  },
  {
   "cell_type": "code",
   "execution_count": 30,
   "id": "83f0bfd0",
   "metadata": {},
   "outputs": [
    {
     "data": {
      "text/html": [
       "<div>\n",
       "<style scoped>\n",
       "    .dataframe tbody tr th:only-of-type {\n",
       "        vertical-align: middle;\n",
       "    }\n",
       "\n",
       "    .dataframe tbody tr th {\n",
       "        vertical-align: top;\n",
       "    }\n",
       "\n",
       "    .dataframe thead th {\n",
       "        text-align: right;\n",
       "    }\n",
       "</style>\n",
       "<table border=\"1\" class=\"dataframe\">\n",
       "  <thead>\n",
       "    <tr style=\"text-align: right;\">\n",
       "      <th></th>\n",
       "      <th>date</th>\n",
       "      <th>browser</th>\n",
       "      <th>user_type</th>\n",
       "      <th>users</th>\n",
       "    </tr>\n",
       "  </thead>\n",
       "  <tbody>\n",
       "    <tr>\n",
       "      <th>0</th>\n",
       "      <td>2020-06-15</td>\n",
       "      <td>Google Chrome</td>\n",
       "      <td>People</td>\n",
       "      <td>240.0</td>\n",
       "    </tr>\n",
       "    <tr>\n",
       "      <th>1</th>\n",
       "      <td>2020-06-15</td>\n",
       "      <td>Google Chrome</td>\n",
       "      <td>Robots</td>\n",
       "      <td>104.0</td>\n",
       "    </tr>\n",
       "    <tr>\n",
       "      <th>2</th>\n",
       "      <td>2020-06-15</td>\n",
       "      <td>Yandex Browser</td>\n",
       "      <td>People</td>\n",
       "      <td>44.0</td>\n",
       "    </tr>\n",
       "    <tr>\n",
       "      <th>3</th>\n",
       "      <td>2020-06-15</td>\n",
       "      <td>Chrome Mobile</td>\n",
       "      <td>People</td>\n",
       "      <td>30.0</td>\n",
       "    </tr>\n",
       "    <tr>\n",
       "      <th>4</th>\n",
       "      <td>2020-06-15</td>\n",
       "      <td>Firefox</td>\n",
       "      <td>Robots</td>\n",
       "      <td>29.0</td>\n",
       "    </tr>\n",
       "  </tbody>\n",
       "</table>\n",
       "</div>"
      ],
      "text/plain": [
       "         date         browser user_type  users\n",
       "0  2020-06-15   Google Chrome    People  240.0\n",
       "1  2020-06-15   Google Chrome    Robots  104.0\n",
       "2  2020-06-15  Yandex Browser    People   44.0\n",
       "3  2020-06-15   Chrome Mobile    People   30.0\n",
       "4  2020-06-15         Firefox    Robots   29.0"
      ]
     },
     "execution_count": 30,
     "metadata": {},
     "output_type": "execute_result"
    }
   ],
   "source": [
    "from io import BytesIO \n",
    "import requests \n",
    "r = requests.get('https://docs.google.com/spreadsheets/d/e/2PACX-1vQWMsvBTVio9C7IOOxfFO9C15BRHyME-_ENHqBodDOjuiHwk9fCuF5hUVmDs497PZOqPYK3exdSikOK/pub?gid=1006633900&single=true&output=csv') \n",
    "data = r.content\n",
    "\n",
    "df2 = pd.read_csv(BytesIO(data))\n",
    "df2.head()"
   ]
  },
  {
   "cell_type": "code",
   "execution_count": 32,
   "id": "769bb87b",
   "metadata": {},
   "outputs": [],
   "source": [
    "full_data = df1.merge(df2, on=['date', 'browser', 'user_type'])"
   ]
  },
  {
   "cell_type": "code",
   "execution_count": 35,
   "id": "616ffb49",
   "metadata": {},
   "outputs": [
    {
     "data": {
      "text/html": [
       "<div>\n",
       "<style scoped>\n",
       "    .dataframe tbody tr th:only-of-type {\n",
       "        vertical-align: middle;\n",
       "    }\n",
       "\n",
       "    .dataframe tbody tr th {\n",
       "        vertical-align: top;\n",
       "    }\n",
       "\n",
       "    .dataframe thead th {\n",
       "        text-align: right;\n",
       "    }\n",
       "</style>\n",
       "<table border=\"1\" class=\"dataframe\">\n",
       "  <thead>\n",
       "    <tr style=\"text-align: right;\">\n",
       "      <th></th>\n",
       "      <th>date</th>\n",
       "      <th>browser</th>\n",
       "      <th>user_type</th>\n",
       "      <th>visits</th>\n",
       "      <th>users</th>\n",
       "      <th>ratio</th>\n",
       "    </tr>\n",
       "  </thead>\n",
       "  <tbody>\n",
       "    <tr>\n",
       "      <th>0</th>\n",
       "      <td>2020-06-15</td>\n",
       "      <td>Google Chrome</td>\n",
       "      <td>People</td>\n",
       "      <td>250.0</td>\n",
       "      <td>240.0</td>\n",
       "      <td>1.041667</td>\n",
       "    </tr>\n",
       "    <tr>\n",
       "      <th>1</th>\n",
       "      <td>2020-06-15</td>\n",
       "      <td>Google Chrome</td>\n",
       "      <td>Robots</td>\n",
       "      <td>104.0</td>\n",
       "      <td>104.0</td>\n",
       "      <td>1.000000</td>\n",
       "    </tr>\n",
       "    <tr>\n",
       "      <th>2</th>\n",
       "      <td>2020-06-15</td>\n",
       "      <td>Yandex Browser</td>\n",
       "      <td>People</td>\n",
       "      <td>47.0</td>\n",
       "      <td>44.0</td>\n",
       "      <td>1.068182</td>\n",
       "    </tr>\n",
       "    <tr>\n",
       "      <th>3</th>\n",
       "      <td>2020-06-15</td>\n",
       "      <td>Firefox</td>\n",
       "      <td>Robots</td>\n",
       "      <td>31.0</td>\n",
       "      <td>29.0</td>\n",
       "      <td>1.068966</td>\n",
       "    </tr>\n",
       "    <tr>\n",
       "      <th>4</th>\n",
       "      <td>2020-06-15</td>\n",
       "      <td>Chrome Mobile</td>\n",
       "      <td>People</td>\n",
       "      <td>31.0</td>\n",
       "      <td>30.0</td>\n",
       "      <td>1.033333</td>\n",
       "    </tr>\n",
       "  </tbody>\n",
       "</table>\n",
       "</div>"
      ],
      "text/plain": [
       "         date         browser user_type  visits  users     ratio\n",
       "0  2020-06-15   Google Chrome    People   250.0  240.0  1.041667\n",
       "1  2020-06-15   Google Chrome    Robots   104.0  104.0  1.000000\n",
       "2  2020-06-15  Yandex Browser    People    47.0   44.0  1.068182\n",
       "3  2020-06-15         Firefox    Robots    31.0   29.0  1.068966\n",
       "4  2020-06-15   Chrome Mobile    People    31.0   30.0  1.033333"
      ]
     },
     "execution_count": 35,
     "metadata": {},
     "output_type": "execute_result"
    }
   ],
   "source": [
    "full_data['ratio'] = full_data.visits / full_data.users\n",
    "full_data.head()"
   ]
  },
  {
   "cell_type": "code",
   "execution_count": 34,
   "id": "83f0f627",
   "metadata": {},
   "outputs": [
    {
     "data": {
      "text/html": [
       "<div>\n",
       "<style scoped>\n",
       "    .dataframe tbody tr th:only-of-type {\n",
       "        vertical-align: middle;\n",
       "    }\n",
       "\n",
       "    .dataframe tbody tr th {\n",
       "        vertical-align: top;\n",
       "    }\n",
       "\n",
       "    .dataframe thead th {\n",
       "        text-align: right;\n",
       "    }\n",
       "</style>\n",
       "<table border=\"1\" class=\"dataframe\">\n",
       "  <thead>\n",
       "    <tr style=\"text-align: right;\">\n",
       "      <th></th>\n",
       "      <th>date</th>\n",
       "      <th>browser</th>\n",
       "      <th>user_type</th>\n",
       "      <th>visits</th>\n",
       "      <th>users</th>\n",
       "      <th>ratio</th>\n",
       "    </tr>\n",
       "  </thead>\n",
       "  <tbody>\n",
       "    <tr>\n",
       "      <th>1</th>\n",
       "      <td>2020-06-15</td>\n",
       "      <td>Google Chrome</td>\n",
       "      <td>Robots</td>\n",
       "      <td>104.0</td>\n",
       "      <td>104.0</td>\n",
       "      <td>1.0</td>\n",
       "    </tr>\n",
       "  </tbody>\n",
       "</table>\n",
       "</div>"
      ],
      "text/plain": [
       "         date        browser user_type  visits  users  ratio\n",
       "1  2020-06-15  Google Chrome    Robots   104.0  104.0    1.0"
      ]
     },
     "execution_count": 34,
     "metadata": {},
     "output_type": "execute_result"
    }
   ],
   "source": [
    "full_data.query('browser == \"Google Chrome\" and user_type == \"Robots\"')"
   ]
  }
 ],
 "metadata": {
  "kernelspec": {
   "display_name": "Python 3 (ipykernel)",
   "language": "python",
   "name": "python3"
  },
  "language_info": {
   "codemirror_mode": {
    "name": "ipython",
    "version": 3
   },
   "file_extension": ".py",
   "mimetype": "text/x-python",
   "name": "python",
   "nbconvert_exporter": "python",
   "pygments_lexer": "ipython3",
   "version": "3.9.13"
  }
 },
 "nbformat": 4,
 "nbformat_minor": 5
}
