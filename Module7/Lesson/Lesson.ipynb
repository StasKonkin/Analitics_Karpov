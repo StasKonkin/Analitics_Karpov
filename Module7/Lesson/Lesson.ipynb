{
 "cells": [
  {
   "cell_type": "code",
   "execution_count": 1,
   "id": "c9fc7166",
   "metadata": {},
   "outputs": [
    {
     "name": "stdout",
     "output_type": "stream",
     "text": [
      "Defaulting to user installation because normal site-packages is not writeable\n",
      "Requirement already satisfied: vk-api in c:\\users\\stask\\appdata\\roaming\\python\\python39\\site-packages (11.9.9)\n",
      "Requirement already satisfied: requests in c:\\programdata\\anaconda3\\lib\\site-packages (from vk-api) (2.28.1)\n",
      "Requirement already satisfied: idna<4,>=2.5 in c:\\programdata\\anaconda3\\lib\\site-packages (from requests->vk-api) (3.3)\n",
      "Requirement already satisfied: charset-normalizer<3,>=2 in c:\\programdata\\anaconda3\\lib\\site-packages (from requests->vk-api) (2.0.4)\n",
      "Requirement already satisfied: urllib3<1.27,>=1.21.1 in c:\\programdata\\anaconda3\\lib\\site-packages (from requests->vk-api) (1.26.11)\n",
      "Requirement already satisfied: certifi>=2017.4.17 in c:\\programdata\\anaconda3\\lib\\site-packages (from requests->vk-api) (2022.9.14)\n",
      "Note: you may need to restart the kernel to use updated packages.\n"
     ]
    }
   ],
   "source": [
    "pip install vk-api"
   ]
  },
  {
   "cell_type": "code",
   "execution_count": 2,
   "id": "6d12965b",
   "metadata": {},
   "outputs": [],
   "source": [
    "import pandas as pd\n",
    "import datetime\n",
    "import vk_api\n",
    "import os\n",
    "import requests\n",
    "import json\n",
    "import random\n",
    "\n",
    "import matplotlib.pyplot as plt \n",
    "import seaborn as sns\n",
    "import sys"
   ]
  },
  {
   "cell_type": "code",
   "execution_count": 3,
   "id": "e4269541",
   "metadata": {},
   "outputs": [],
   "source": [
    "token = 'vk1.a.fVkOcD00hRtHNgQx9uWpkBDyUKoEKKJsgzg7HFxiP-_-AyzRvw0aPSXZm2qfVfcKADH67vjwEA_DFcZe1Trmh6fW6te19cSv93VmwVTymGuXKAsaysq1XNAQAqXodoIy23n7Zdm12jsdWyA2LLPEqHSJWodnkGl4ANjQg-uPfmJC3o5BZAIY-MuxoQhYCFS0aaUY8p-0QDThcbogi8xKdQ'"
   ]
  },
  {
   "cell_type": "code",
   "execution_count": 4,
   "id": "99081e44",
   "metadata": {},
   "outputs": [],
   "source": [
    "vk_session = vk_api.VkApi(token=token)\n",
    "vk = vk_session.get_api()"
   ]
  },
  {
   "cell_type": "code",
   "execution_count": 5,
   "id": "fea2a028",
   "metadata": {},
   "outputs": [
    {
     "data": {
      "text/plain": [
       "0"
      ]
     },
     "execution_count": 5,
     "metadata": {},
     "output_type": "execute_result"
    }
   ],
   "source": [
    "vk.messages.send(chat_id=1,\n",
    "               random_id=1,\n",
    "               message='Not too bad.')"
   ]
  },
  {
   "cell_type": "markdown",
   "id": "fdfc6229",
   "metadata": {},
   "source": [
    "# Google doc API"
   ]
  },
  {
   "cell_type": "code",
   "execution_count": 6,
   "id": "6172e2af",
   "metadata": {},
   "outputs": [
    {
     "name": "stdout",
     "output_type": "stream",
     "text": [
      "Defaulting to user installation because normal site-packages is not writeable\n",
      "Requirement already satisfied: gspread in c:\\users\\stask\\appdata\\roaming\\python\\python39\\site-packages (5.10.0)\n",
      "Requirement already satisfied: google-auth>=1.12.0 in c:\\users\\stask\\appdata\\roaming\\python\\python39\\site-packages (from gspread) (2.22.0)\n",
      "Requirement already satisfied: google-auth-oauthlib>=0.4.1 in c:\\users\\stask\\appdata\\roaming\\python\\python39\\site-packages (from gspread) (1.0.0)\n",
      "Requirement already satisfied: pyasn1-modules>=0.2.1 in c:\\programdata\\anaconda3\\lib\\site-packages (from google-auth>=1.12.0->gspread) (0.2.8)\n",
      "Requirement already satisfied: cachetools<6.0,>=2.0.0 in c:\\users\\stask\\appdata\\roaming\\python\\python39\\site-packages (from google-auth>=1.12.0->gspread) (5.3.1)\n",
      "Requirement already satisfied: rsa<5,>=3.1.4 in c:\\users\\stask\\appdata\\roaming\\python\\python39\\site-packages (from google-auth>=1.12.0->gspread) (4.9)\n",
      "Requirement already satisfied: six>=1.9.0 in c:\\programdata\\anaconda3\\lib\\site-packages (from google-auth>=1.12.0->gspread) (1.16.0)\n",
      "Requirement already satisfied: urllib3<2.0 in c:\\programdata\\anaconda3\\lib\\site-packages (from google-auth>=1.12.0->gspread) (1.26.11)\n",
      "Requirement already satisfied: requests-oauthlib>=0.7.0 in c:\\users\\stask\\appdata\\roaming\\python\\python39\\site-packages (from google-auth-oauthlib>=0.4.1->gspread) (1.3.1)\n",
      "Requirement already satisfied: pyasn1<0.5.0,>=0.4.6 in c:\\programdata\\anaconda3\\lib\\site-packages (from pyasn1-modules>=0.2.1->google-auth>=1.12.0->gspread) (0.4.8)\n",
      "Requirement already satisfied: requests>=2.0.0 in c:\\programdata\\anaconda3\\lib\\site-packages (from requests-oauthlib>=0.7.0->google-auth-oauthlib>=0.4.1->gspread) (2.28.1)\n",
      "Requirement already satisfied: oauthlib>=3.0.0 in c:\\users\\stask\\appdata\\roaming\\python\\python39\\site-packages (from requests-oauthlib>=0.7.0->google-auth-oauthlib>=0.4.1->gspread) (3.2.2)\n",
      "Requirement already satisfied: charset-normalizer<3,>=2 in c:\\programdata\\anaconda3\\lib\\site-packages (from requests>=2.0.0->requests-oauthlib>=0.7.0->google-auth-oauthlib>=0.4.1->gspread) (2.0.4)\n",
      "Requirement already satisfied: idna<4,>=2.5 in c:\\programdata\\anaconda3\\lib\\site-packages (from requests>=2.0.0->requests-oauthlib>=0.7.0->google-auth-oauthlib>=0.4.1->gspread) (3.3)\n",
      "Requirement already satisfied: certifi>=2017.4.17 in c:\\programdata\\anaconda3\\lib\\site-packages (from requests>=2.0.0->requests-oauthlib>=0.7.0->google-auth-oauthlib>=0.4.1->gspread) (2022.9.14)\n",
      "Note: you may need to restart the kernel to use updated packages.\n"
     ]
    }
   ],
   "source": [
    "pip install gspread"
   ]
  },
  {
   "cell_type": "code",
   "execution_count": 7,
   "id": "b6800639",
   "metadata": {},
   "outputs": [
    {
     "name": "stdout",
     "output_type": "stream",
     "text": [
      "Defaulting to user installation because normal site-packages is not writeable\n",
      "Requirement already satisfied: df2gspread in c:\\users\\stask\\appdata\\roaming\\python\\python39\\site-packages (1.0.4)\n",
      "Requirement already satisfied: pandas in c:\\programdata\\anaconda3\\lib\\site-packages (from df2gspread) (1.4.4)\n",
      "Requirement already satisfied: gspread>=2.1.1 in c:\\users\\stask\\appdata\\roaming\\python\\python39\\site-packages (from df2gspread) (5.10.0)\n",
      "Requirement already satisfied: google-api-python-client==1.6.7 in c:\\users\\stask\\appdata\\roaming\\python\\python39\\site-packages (from df2gspread) (1.6.7)\n",
      "Collecting argparse>=1.3.0\n",
      "  Using cached argparse-1.4.0-py2.py3-none-any.whl (23 kB)\n",
      "Requirement already satisfied: oauth2client<5.0.0dev,>=1.5.0 in c:\\users\\stask\\appdata\\roaming\\python\\python39\\site-packages (from df2gspread) (4.1.3)\n",
      "Requirement already satisfied: httplib2<1dev,>=0.9.2 in c:\\users\\stask\\appdata\\roaming\\python\\python39\\site-packages (from google-api-python-client==1.6.7->df2gspread) (0.22.0)\n",
      "Requirement already satisfied: uritemplate<4dev,>=3.0.0 in c:\\users\\stask\\appdata\\roaming\\python\\python39\\site-packages (from google-api-python-client==1.6.7->df2gspread) (3.0.1)\n",
      "Requirement already satisfied: six<2dev,>=1.6.1 in c:\\programdata\\anaconda3\\lib\\site-packages (from google-api-python-client==1.6.7->df2gspread) (1.16.0)\n",
      "Requirement already satisfied: google-auth>=1.12.0 in c:\\users\\stask\\appdata\\roaming\\python\\python39\\site-packages (from gspread>=2.1.1->df2gspread) (2.22.0)\n",
      "Requirement already satisfied: google-auth-oauthlib>=0.4.1 in c:\\users\\stask\\appdata\\roaming\\python\\python39\\site-packages (from gspread>=2.1.1->df2gspread) (1.0.0)\n",
      "Requirement already satisfied: rsa>=3.1.4 in c:\\users\\stask\\appdata\\roaming\\python\\python39\\site-packages (from oauth2client<5.0.0dev,>=1.5.0->df2gspread) (4.9)\n",
      "Requirement already satisfied: pyasn1-modules>=0.0.5 in c:\\programdata\\anaconda3\\lib\\site-packages (from oauth2client<5.0.0dev,>=1.5.0->df2gspread) (0.2.8)\n",
      "Requirement already satisfied: pyasn1>=0.1.7 in c:\\programdata\\anaconda3\\lib\\site-packages (from oauth2client<5.0.0dev,>=1.5.0->df2gspread) (0.4.8)\n",
      "Requirement already satisfied: pytz>=2020.1 in c:\\programdata\\anaconda3\\lib\\site-packages (from pandas->df2gspread) (2022.1)\n",
      "Requirement already satisfied: numpy>=1.18.5 in c:\\programdata\\anaconda3\\lib\\site-packages (from pandas->df2gspread) (1.21.5)\n",
      "Requirement already satisfied: python-dateutil>=2.8.1 in c:\\programdata\\anaconda3\\lib\\site-packages (from pandas->df2gspread) (2.8.2)\n",
      "Requirement already satisfied: urllib3<2.0 in c:\\programdata\\anaconda3\\lib\\site-packages (from google-auth>=1.12.0->gspread>=2.1.1->df2gspread) (1.26.11)\n",
      "Requirement already satisfied: cachetools<6.0,>=2.0.0 in c:\\users\\stask\\appdata\\roaming\\python\\python39\\site-packages (from google-auth>=1.12.0->gspread>=2.1.1->df2gspread) (5.3.1)\n",
      "Requirement already satisfied: requests-oauthlib>=0.7.0 in c:\\users\\stask\\appdata\\roaming\\python\\python39\\site-packages (from google-auth-oauthlib>=0.4.1->gspread>=2.1.1->df2gspread) (1.3.1)\n",
      "Requirement already satisfied: pyparsing!=3.0.0,!=3.0.1,!=3.0.2,!=3.0.3,<4,>=2.4.2 in c:\\programdata\\anaconda3\\lib\\site-packages (from httplib2<1dev,>=0.9.2->google-api-python-client==1.6.7->df2gspread) (3.0.9)\n",
      "Requirement already satisfied: oauthlib>=3.0.0 in c:\\users\\stask\\appdata\\roaming\\python\\python39\\site-packages (from requests-oauthlib>=0.7.0->google-auth-oauthlib>=0.4.1->gspread>=2.1.1->df2gspread) (3.2.2)\n",
      "Requirement already satisfied: requests>=2.0.0 in c:\\programdata\\anaconda3\\lib\\site-packages (from requests-oauthlib>=0.7.0->google-auth-oauthlib>=0.4.1->gspread>=2.1.1->df2gspread) (2.28.1)\n",
      "Requirement already satisfied: idna<4,>=2.5 in c:\\programdata\\anaconda3\\lib\\site-packages (from requests>=2.0.0->requests-oauthlib>=0.7.0->google-auth-oauthlib>=0.4.1->gspread>=2.1.1->df2gspread) (3.3)\n",
      "Requirement already satisfied: certifi>=2017.4.17 in c:\\programdata\\anaconda3\\lib\\site-packages (from requests>=2.0.0->requests-oauthlib>=0.7.0->google-auth-oauthlib>=0.4.1->gspread>=2.1.1->df2gspread) (2022.9.14)\n",
      "Requirement already satisfied: charset-normalizer<3,>=2 in c:\\programdata\\anaconda3\\lib\\site-packages (from requests>=2.0.0->requests-oauthlib>=0.7.0->google-auth-oauthlib>=0.4.1->gspread>=2.1.1->df2gspread) (2.0.4)\n",
      "Installing collected packages: argparse\n",
      "Successfully installed argparse-1.4.0\n",
      "Note: you may need to restart the kernel to use updated packages.\n"
     ]
    }
   ],
   "source": [
    "pip install df2gspread"
   ]
  },
  {
   "cell_type": "code",
   "execution_count": 8,
   "id": "100f4e2b",
   "metadata": {},
   "outputs": [
    {
     "name": "stdout",
     "output_type": "stream",
     "text": [
      "Defaulting to user installation because normal site-packages is not writeable\n",
      "Requirement already satisfied: oauth2client in c:\\users\\stask\\appdata\\roaming\\python\\python39\\site-packages (4.1.3)\n",
      "Requirement already satisfied: pyasn1-modules>=0.0.5 in c:\\programdata\\anaconda3\\lib\\site-packages (from oauth2client) (0.2.8)\n",
      "Requirement already satisfied: httplib2>=0.9.1 in c:\\users\\stask\\appdata\\roaming\\python\\python39\\site-packages (from oauth2client) (0.22.0)\n",
      "Requirement already satisfied: six>=1.6.1 in c:\\programdata\\anaconda3\\lib\\site-packages (from oauth2client) (1.16.0)\n",
      "Requirement already satisfied: rsa>=3.1.4 in c:\\users\\stask\\appdata\\roaming\\python\\python39\\site-packages (from oauth2client) (4.9)\n",
      "Requirement already satisfied: pyasn1>=0.1.7 in c:\\programdata\\anaconda3\\lib\\site-packages (from oauth2client) (0.4.8)\n",
      "Requirement already satisfied: pyparsing!=3.0.0,!=3.0.1,!=3.0.2,!=3.0.3,<4,>=2.4.2 in c:\\programdata\\anaconda3\\lib\\site-packages (from httplib2>=0.9.1->oauth2client) (3.0.9)\n",
      "Note: you may need to restart the kernel to use updated packages.\n"
     ]
    }
   ],
   "source": [
    "pip install oauth2client"
   ]
  },
  {
   "cell_type": "code",
   "execution_count": 9,
   "id": "967ee7d9",
   "metadata": {},
   "outputs": [],
   "source": [
    "import gspread\n",
    "from df2gspread import df2gspread as d2g\n",
    "from oauth2client.service_account import ServiceAccountCredentials"
   ]
  },
  {
   "cell_type": "code",
   "execution_count": 10,
   "id": "db2031e3",
   "metadata": {},
   "outputs": [],
   "source": [
    "# Set up credentials\n",
    "scope = ['https://spreadsheets.google.com/feeds', 'https://www.googleapis.com/auth/drive']\n",
    "my_mail = 'staskv2000@gmail.com'\n",
    "credentials = ServiceAccountCredentials.from_json_keyfile_name('manifest-verve-392606-1884b94a438f.json', scope)\n",
    "gs = gspread.authorize(credentials)\n",
    "# Access a specific spreadsheet\n",
    "table_name = 'api'\n",
    "work_sheet = gs.open(table_name)\n",
    "sheet1 = work_sheet.sheet1\n",
    "\n",
    "# Get data in python lists format\n",
    "data = sheet1.get_all_values()"
   ]
  },
  {
   "cell_type": "code",
   "execution_count": 11,
   "id": "0332b034",
   "metadata": {},
   "outputs": [
    {
     "data": {
      "text/plain": [
       "[['group_id', 'price'],\n",
       " ['1', '20'],\n",
       " ['3', '40'],\n",
       " ['10', '6'],\n",
       " ['22', '6'],\n",
       " ['stas', '15'],\n",
       " ['stas', '15'],\n",
       " ['stas', '15']]"
      ]
     },
     "execution_count": 11,
     "metadata": {},
     "output_type": "execute_result"
    }
   ],
   "source": [
    "data"
   ]
  },
  {
   "cell_type": "code",
   "execution_count": 12,
   "id": "ed91179c",
   "metadata": {},
   "outputs": [],
   "source": [
    "headers = data.pop(0)"
   ]
  },
  {
   "cell_type": "code",
   "execution_count": 13,
   "id": "c89c4357",
   "metadata": {},
   "outputs": [
    {
     "data": {
      "text/html": [
       "<div>\n",
       "<style scoped>\n",
       "    .dataframe tbody tr th:only-of-type {\n",
       "        vertical-align: middle;\n",
       "    }\n",
       "\n",
       "    .dataframe tbody tr th {\n",
       "        vertical-align: top;\n",
       "    }\n",
       "\n",
       "    .dataframe thead th {\n",
       "        text-align: right;\n",
       "    }\n",
       "</style>\n",
       "<table border=\"1\" class=\"dataframe\">\n",
       "  <thead>\n",
       "    <tr style=\"text-align: right;\">\n",
       "      <th></th>\n",
       "      <th>group_id</th>\n",
       "      <th>price</th>\n",
       "    </tr>\n",
       "  </thead>\n",
       "  <tbody>\n",
       "    <tr>\n",
       "      <th>0</th>\n",
       "      <td>1</td>\n",
       "      <td>20</td>\n",
       "    </tr>\n",
       "    <tr>\n",
       "      <th>1</th>\n",
       "      <td>3</td>\n",
       "      <td>40</td>\n",
       "    </tr>\n",
       "    <tr>\n",
       "      <th>2</th>\n",
       "      <td>10</td>\n",
       "      <td>6</td>\n",
       "    </tr>\n",
       "    <tr>\n",
       "      <th>3</th>\n",
       "      <td>22</td>\n",
       "      <td>6</td>\n",
       "    </tr>\n",
       "    <tr>\n",
       "      <th>4</th>\n",
       "      <td>stas</td>\n",
       "      <td>15</td>\n",
       "    </tr>\n",
       "    <tr>\n",
       "      <th>5</th>\n",
       "      <td>stas</td>\n",
       "      <td>15</td>\n",
       "    </tr>\n",
       "    <tr>\n",
       "      <th>6</th>\n",
       "      <td>stas</td>\n",
       "      <td>15</td>\n",
       "    </tr>\n",
       "  </tbody>\n",
       "</table>\n",
       "</div>"
      ],
      "text/plain": [
       "  group_id price\n",
       "0        1    20\n",
       "1        3    40\n",
       "2       10     6\n",
       "3       22     6\n",
       "4     stas    15\n",
       "5     stas    15\n",
       "6     stas    15"
      ]
     },
     "execution_count": 13,
     "metadata": {},
     "output_type": "execute_result"
    }
   ],
   "source": [
    "df = pd.DataFrame(data, columns=headers)\n",
    "df"
   ]
  },
  {
   "cell_type": "code",
   "execution_count": 14,
   "id": "d39b2fa5",
   "metadata": {},
   "outputs": [
    {
     "data": {
      "text/plain": [
       "{'spreadsheetId': '1j1RKDojjARrY6zOymbZPCaXckspLb7v7K3qGvFr5-ic',\n",
       " 'tableRange': 'Sheet1!A1:B8',\n",
       " 'updates': {'spreadsheetId': '1j1RKDojjARrY6zOymbZPCaXckspLb7v7K3qGvFr5-ic',\n",
       "  'updatedRange': 'Sheet1!A9:B9',\n",
       "  'updatedRows': 1,\n",
       "  'updatedColumns': 2,\n",
       "  'updatedCells': 2}}"
      ]
     },
     "execution_count": 14,
     "metadata": {},
     "output_type": "execute_result"
    }
   ],
   "source": [
    "sheet1.append_row(['stas', 15])"
   ]
  },
  {
   "cell_type": "code",
   "execution_count": 15,
   "id": "0f08661b",
   "metadata": {},
   "outputs": [
    {
     "data": {
      "text/plain": [
       "<Worksheet 'New' id:1859085648>"
      ]
     },
     "execution_count": 15,
     "metadata": {},
     "output_type": "execute_result"
    }
   ],
   "source": [
    "# let's upload this df to new sheet\n",
    "sheet = 'New'\n",
    "d2g.upload(df, work_sheet.id, sheet, credentials=credentials, row_names=False)"
   ]
  },
  {
   "cell_type": "markdown",
   "id": "5524417c",
   "metadata": {},
   "source": [
    "# API Yandex metrica"
   ]
  },
  {
   "cell_type": "code",
   "execution_count": 24,
   "id": "3f8c6b77",
   "metadata": {},
   "outputs": [],
   "source": [
    "url = 'https://api-metrica.yandex.net/stat/v1/data?'\n",
    "visits = 'metrics=ym:s:visits&dimensions=ym:s:date&id=44147844'"
   ]
  },
  {
   "cell_type": "code",
   "execution_count": 25,
   "id": "d536303c",
   "metadata": {},
   "outputs": [
    {
     "data": {
      "text/plain": [
       "<Response [200]>"
      ]
     },
     "execution_count": 25,
     "metadata": {},
     "output_type": "execute_result"
    }
   ],
   "source": [
    "visits_url = url + visits\n",
    "visits_request = requests.get(visits_url)\n",
    "visits_request"
   ]
  },
  {
   "cell_type": "code",
   "execution_count": 27,
   "id": "5ceec61a",
   "metadata": {},
   "outputs": [
    {
     "data": {
      "text/plain": [
       "[{'dimensions': [{'name': '2023-07-14'}], 'metrics': [800.0]},\n",
       " {'dimensions': [{'name': '2023-07-13'}], 'metrics': [750.0]},\n",
       " {'dimensions': [{'name': '2023-07-12'}], 'metrics': [700.0]},\n",
       " {'dimensions': [{'name': '2023-07-11'}], 'metrics': [570.0]},\n",
       " {'dimensions': [{'name': '2023-07-10'}], 'metrics': [530.0]},\n",
       " {'dimensions': [{'name': '2023-07-15'}], 'metrics': [260.0]},\n",
       " {'dimensions': [{'name': '2023-07-16'}], 'metrics': [60.0]}]"
      ]
     },
     "execution_count": 27,
     "metadata": {},
     "output_type": "execute_result"
    }
   ],
   "source": [
    "json_data = json.loads(visits_request.text)\n",
    "json_data['data']"
   ]
  },
  {
   "cell_type": "code",
   "execution_count": 28,
   "id": "a6ec8f2c",
   "metadata": {},
   "outputs": [
    {
     "data": {
      "text/html": [
       "<div>\n",
       "<style scoped>\n",
       "    .dataframe tbody tr th:only-of-type {\n",
       "        vertical-align: middle;\n",
       "    }\n",
       "\n",
       "    .dataframe tbody tr th {\n",
       "        vertical-align: top;\n",
       "    }\n",
       "\n",
       "    .dataframe thead th {\n",
       "        text-align: right;\n",
       "    }\n",
       "</style>\n",
       "<table border=\"1\" class=\"dataframe\">\n",
       "  <thead>\n",
       "    <tr style=\"text-align: right;\">\n",
       "      <th></th>\n",
       "      <th>date</th>\n",
       "      <th>visits</th>\n",
       "    </tr>\n",
       "  </thead>\n",
       "  <tbody>\n",
       "    <tr>\n",
       "      <th>0</th>\n",
       "      <td>2023-07-14</td>\n",
       "      <td>800.0</td>\n",
       "    </tr>\n",
       "    <tr>\n",
       "      <th>1</th>\n",
       "      <td>2023-07-13</td>\n",
       "      <td>750.0</td>\n",
       "    </tr>\n",
       "    <tr>\n",
       "      <th>2</th>\n",
       "      <td>2023-07-12</td>\n",
       "      <td>700.0</td>\n",
       "    </tr>\n",
       "    <tr>\n",
       "      <th>3</th>\n",
       "      <td>2023-07-11</td>\n",
       "      <td>570.0</td>\n",
       "    </tr>\n",
       "    <tr>\n",
       "      <th>4</th>\n",
       "      <td>2023-07-10</td>\n",
       "      <td>530.0</td>\n",
       "    </tr>\n",
       "    <tr>\n",
       "      <th>5</th>\n",
       "      <td>2023-07-15</td>\n",
       "      <td>260.0</td>\n",
       "    </tr>\n",
       "    <tr>\n",
       "      <th>6</th>\n",
       "      <td>2023-07-16</td>\n",
       "      <td>60.0</td>\n",
       "    </tr>\n",
       "  </tbody>\n",
       "</table>\n",
       "</div>"
      ],
      "text/plain": [
       "         date  visits\n",
       "0  2023-07-14   800.0\n",
       "1  2023-07-13   750.0\n",
       "2  2023-07-12   700.0\n",
       "3  2023-07-11   570.0\n",
       "4  2023-07-10   530.0\n",
       "5  2023-07-15   260.0\n",
       "6  2023-07-16    60.0"
      ]
     },
     "execution_count": 28,
     "metadata": {},
     "output_type": "execute_result"
    }
   ],
   "source": [
    "y_df = pd.DataFrame([(i['dimensions'][0]['name'], \n",
    "             i['metrics'][0]) for i in json_data['data']], \n",
    "             columns=['date','visits'])\n",
    "y_df "
   ]
  },
  {
   "cell_type": "code",
   "execution_count": 29,
   "id": "3b4332e1",
   "metadata": {},
   "outputs": [
    {
     "data": {
      "text/plain": [
       "<Worksheet 'Yandex Metrica' id:1397604895>"
      ]
     },
     "execution_count": 29,
     "metadata": {},
     "output_type": "execute_result"
    }
   ],
   "source": [
    "sheet = 'Yandex Metrica'\n",
    "d2g.upload(y_df, work_sheet.id, sheet, credentials=credentials, row_names=False)"
   ]
  }
 ],
 "metadata": {
  "kernelspec": {
   "display_name": "Python 3 (ipykernel)",
   "language": "python",
   "name": "python3"
  },
  "language_info": {
   "codemirror_mode": {
    "name": "ipython",
    "version": 3
   },
   "file_extension": ".py",
   "mimetype": "text/x-python",
   "name": "python",
   "nbconvert_exporter": "python",
   "pygments_lexer": "ipython3",
   "version": "3.9.13"
  }
 },
 "nbformat": 4,
 "nbformat_minor": 5
}
