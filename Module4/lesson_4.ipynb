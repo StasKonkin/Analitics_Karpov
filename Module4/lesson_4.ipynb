{
 "cells": [
  {
   "cell_type": "code",
   "execution_count": 1,
   "id": "ad8ca7bf",
   "metadata": {},
   "outputs": [],
   "source": [
    "import pandas as pd\n",
    "import os"
   ]
  },
  {
   "cell_type": "code",
   "execution_count": 17,
   "id": "986184b4",
   "metadata": {},
   "outputs": [],
   "source": [
    "folder_data = os.listdir('C:/Users/stask/Analitics_Karpov/Module4/')\n",
    "# for i in folder_data:\n",
    "#     if i.startswith('.'):\n",
    "#         continue\n",
    "#     print(i)\n",
    "#  [i for i in folder_data if not i.startswith('.')]"
   ]
  },
  {
   "cell_type": "code",
   "execution_count": 16,
   "id": "0ba75ad0",
   "metadata": {},
   "outputs": [
    {
     "data": {
      "text/plain": [
       "['lesson_4.ipynb', 'task_4_homework.txt', 'taxi_peru.csv']"
      ]
     },
     "execution_count": 16,
     "metadata": {},
     "output_type": "execute_result"
    }
   ],
   "source": [
    " [i for i in folder_data if not i.startswith('.')]"
   ]
  },
  {
   "cell_type": "code",
   "execution_count": null,
   "id": "0d5e175d",
   "metadata": {},
   "outputs": [],
   "source": [
    "# open(path).readlines()"
   ]
  },
  {
   "cell_type": "code",
   "execution_count": null,
   "id": "bf6b3bd9",
   "metadata": {},
   "outputs": [],
   "source": [
    "# parsing data and import column names\n",
    "# pd.DataFrame(all_data, columns=col_names)"
   ]
  },
  {
   "cell_type": "code",
   "execution_count": null,
   "id": "f8242eb6",
   "metadata": {},
   "outputs": [],
   "source": [
    "# changing dataframe dtypes\n",
    "# meal_df.astype({'minutes':'int', 'pro':'float'})\n",
    "# pd.to_datetime(meal.date)\n",
    "# meal.date.dt.day"
   ]
  },
  {
   "cell_type": "code",
   "execution_count": 3,
   "id": "80d223db",
   "metadata": {},
   "outputs": [],
   "source": [
    "# To delete a column in pandas DataFrame, you can use the drop() method.\n",
    "# new_df = df.drop('column_name', axis=1)"
   ]
  },
  {
   "cell_type": "code",
   "execution_count": 2,
   "id": "51c83b24",
   "metadata": {},
   "outputs": [],
   "source": [
    "# Remove duplicates based on all columns\n",
    "\n",
    "# df.drop_duplicates(inplace=True)\n",
    "\n",
    "# Remove duplicates based on specific columns\n",
    "\n",
    "# df.drop_duplicates(subset=['column1', 'column2'], inplace=True)"
   ]
  },
  {
   "cell_type": "code",
   "execution_count": null,
   "id": "8b450f24",
   "metadata": {},
   "outputs": [],
   "source": []
  }
 ],
 "metadata": {
  "kernelspec": {
   "display_name": "Python 3 (ipykernel)",
   "language": "python",
   "name": "python3"
  },
  "language_info": {
   "codemirror_mode": {
    "name": "ipython",
    "version": 3
   },
   "file_extension": ".py",
   "mimetype": "text/x-python",
   "name": "python",
   "nbconvert_exporter": "python",
   "pygments_lexer": "ipython3",
   "version": "3.9.13"
  }
 },
 "nbformat": 4,
 "nbformat_minor": 5
}
